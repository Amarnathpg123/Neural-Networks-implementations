{
  "nbformat": 4,
  "nbformat_minor": 0,
  "metadata": {
    "kernelspec": {
      "name": "python3",
      "display_name": "Python 3.8.5 64-bit",
      "metadata": {
        "interpreter": {
          "hash": "db81c78c196f5269207f5750cda145ff8b39254dc99c909f6237f28ca2d3bfd7"
        }
      }
    },
    "language_info": {
      "codemirror_mode": {
        "name": "ipython",
        "version": 3
      },
      "file_extension": ".py",
      "mimetype": "text/x-python",
      "name": "python",
      "nbconvert_exporter": "python",
      "pygments_lexer": "ipython3",
      "version": "3.8.5-final"
    },
    "colab": {
      "name": "LeNet5.ipynb",
      "provenance": [],
      "collapsed_sections": [
        "EeDYnHSHnaXe",
        "oLt0mXnAnewd",
        "IrwESQjfnrG8",
        "KQDXg2X-m-vC",
        "syyhORqanIbB"
      ]
    },
    "accelerator": "GPU",
    "widgets": {
      "application/vnd.jupyter.widget-state+json": {
        "bdb6cd9d0b134b508dad28a18fe36dfb": {
          "model_module": "@jupyter-widgets/controls",
          "model_name": "HBoxModel",
          "state": {
            "_view_name": "HBoxView",
            "_dom_classes": [],
            "_model_name": "HBoxModel",
            "_view_module": "@jupyter-widgets/controls",
            "_model_module_version": "1.5.0",
            "_view_count": null,
            "_view_module_version": "1.5.0",
            "box_style": "",
            "layout": "IPY_MODEL_508e97e3006c4a4bb4445400031d2c74",
            "_model_module": "@jupyter-widgets/controls",
            "children": [
              "IPY_MODEL_1c4b50b3d2b0442ca576126654b7d9d9",
              "IPY_MODEL_fdadb62d0e0a4c4aa2ac70947afce06a"
            ]
          }
        },
        "508e97e3006c4a4bb4445400031d2c74": {
          "model_module": "@jupyter-widgets/base",
          "model_name": "LayoutModel",
          "state": {
            "_view_name": "LayoutView",
            "grid_template_rows": null,
            "right": null,
            "justify_content": null,
            "_view_module": "@jupyter-widgets/base",
            "overflow": null,
            "_model_module_version": "1.2.0",
            "_view_count": null,
            "flex_flow": null,
            "width": null,
            "min_width": null,
            "border": null,
            "align_items": null,
            "bottom": null,
            "_model_module": "@jupyter-widgets/base",
            "top": null,
            "grid_column": null,
            "overflow_y": null,
            "overflow_x": null,
            "grid_auto_flow": null,
            "grid_area": null,
            "grid_template_columns": null,
            "flex": null,
            "_model_name": "LayoutModel",
            "justify_items": null,
            "grid_row": null,
            "max_height": null,
            "align_content": null,
            "visibility": null,
            "align_self": null,
            "height": null,
            "min_height": null,
            "padding": null,
            "grid_auto_rows": null,
            "grid_gap": null,
            "max_width": null,
            "order": null,
            "_view_module_version": "1.2.0",
            "grid_template_areas": null,
            "object_position": null,
            "object_fit": null,
            "grid_auto_columns": null,
            "margin": null,
            "display": null,
            "left": null
          }
        },
        "1c4b50b3d2b0442ca576126654b7d9d9": {
          "model_module": "@jupyter-widgets/controls",
          "model_name": "FloatProgressModel",
          "state": {
            "_view_name": "ProgressView",
            "style": "IPY_MODEL_44ee20e888c04981bf578079446685fd",
            "_dom_classes": [],
            "description": "100%",
            "_model_name": "FloatProgressModel",
            "bar_style": "success",
            "max": 50,
            "_view_module": "@jupyter-widgets/controls",
            "_model_module_version": "1.5.0",
            "value": 50,
            "_view_count": null,
            "_view_module_version": "1.5.0",
            "orientation": "horizontal",
            "min": 0,
            "description_tooltip": null,
            "_model_module": "@jupyter-widgets/controls",
            "layout": "IPY_MODEL_384566ee56594c888ea5f681bcf9c489"
          }
        },
        "fdadb62d0e0a4c4aa2ac70947afce06a": {
          "model_module": "@jupyter-widgets/controls",
          "model_name": "HTMLModel",
          "state": {
            "_view_name": "HTMLView",
            "style": "IPY_MODEL_f18ed69ee2ee47f3a6c1ea72bfb29633",
            "_dom_classes": [],
            "description": "",
            "_model_name": "HTMLModel",
            "placeholder": "​",
            "_view_module": "@jupyter-widgets/controls",
            "_model_module_version": "1.5.0",
            "value": " 50/50 [41:13&lt;00:00, 49.47s/it]",
            "_view_count": null,
            "_view_module_version": "1.5.0",
            "description_tooltip": null,
            "_model_module": "@jupyter-widgets/controls",
            "layout": "IPY_MODEL_934d3871c3d140f6aac371be72d9f8da"
          }
        },
        "44ee20e888c04981bf578079446685fd": {
          "model_module": "@jupyter-widgets/controls",
          "model_name": "ProgressStyleModel",
          "state": {
            "_view_name": "StyleView",
            "_model_name": "ProgressStyleModel",
            "description_width": "initial",
            "_view_module": "@jupyter-widgets/base",
            "_model_module_version": "1.5.0",
            "_view_count": null,
            "_view_module_version": "1.2.0",
            "bar_color": null,
            "_model_module": "@jupyter-widgets/controls"
          }
        },
        "384566ee56594c888ea5f681bcf9c489": {
          "model_module": "@jupyter-widgets/base",
          "model_name": "LayoutModel",
          "state": {
            "_view_name": "LayoutView",
            "grid_template_rows": null,
            "right": null,
            "justify_content": null,
            "_view_module": "@jupyter-widgets/base",
            "overflow": null,
            "_model_module_version": "1.2.0",
            "_view_count": null,
            "flex_flow": null,
            "width": null,
            "min_width": null,
            "border": null,
            "align_items": null,
            "bottom": null,
            "_model_module": "@jupyter-widgets/base",
            "top": null,
            "grid_column": null,
            "overflow_y": null,
            "overflow_x": null,
            "grid_auto_flow": null,
            "grid_area": null,
            "grid_template_columns": null,
            "flex": null,
            "_model_name": "LayoutModel",
            "justify_items": null,
            "grid_row": null,
            "max_height": null,
            "align_content": null,
            "visibility": null,
            "align_self": null,
            "height": null,
            "min_height": null,
            "padding": null,
            "grid_auto_rows": null,
            "grid_gap": null,
            "max_width": null,
            "order": null,
            "_view_module_version": "1.2.0",
            "grid_template_areas": null,
            "object_position": null,
            "object_fit": null,
            "grid_auto_columns": null,
            "margin": null,
            "display": null,
            "left": null
          }
        },
        "f18ed69ee2ee47f3a6c1ea72bfb29633": {
          "model_module": "@jupyter-widgets/controls",
          "model_name": "DescriptionStyleModel",
          "state": {
            "_view_name": "StyleView",
            "_model_name": "DescriptionStyleModel",
            "description_width": "",
            "_view_module": "@jupyter-widgets/base",
            "_model_module_version": "1.5.0",
            "_view_count": null,
            "_view_module_version": "1.2.0",
            "_model_module": "@jupyter-widgets/controls"
          }
        },
        "934d3871c3d140f6aac371be72d9f8da": {
          "model_module": "@jupyter-widgets/base",
          "model_name": "LayoutModel",
          "state": {
            "_view_name": "LayoutView",
            "grid_template_rows": null,
            "right": null,
            "justify_content": null,
            "_view_module": "@jupyter-widgets/base",
            "overflow": null,
            "_model_module_version": "1.2.0",
            "_view_count": null,
            "flex_flow": null,
            "width": null,
            "min_width": null,
            "border": null,
            "align_items": null,
            "bottom": null,
            "_model_module": "@jupyter-widgets/base",
            "top": null,
            "grid_column": null,
            "overflow_y": null,
            "overflow_x": null,
            "grid_auto_flow": null,
            "grid_area": null,
            "grid_template_columns": null,
            "flex": null,
            "_model_name": "LayoutModel",
            "justify_items": null,
            "grid_row": null,
            "max_height": null,
            "align_content": null,
            "visibility": null,
            "align_self": null,
            "height": null,
            "min_height": null,
            "padding": null,
            "grid_auto_rows": null,
            "grid_gap": null,
            "max_width": null,
            "order": null,
            "_view_module_version": "1.2.0",
            "grid_template_areas": null,
            "object_position": null,
            "object_fit": null,
            "grid_auto_columns": null,
            "margin": null,
            "display": null,
            "left": null
          }
        },
        "934f951cf9ae4af791840397f3bd6b79": {
          "model_module": "@jupyter-widgets/controls",
          "model_name": "HBoxModel",
          "state": {
            "_view_name": "HBoxView",
            "_dom_classes": [],
            "_model_name": "HBoxModel",
            "_view_module": "@jupyter-widgets/controls",
            "_model_module_version": "1.5.0",
            "_view_count": null,
            "_view_module_version": "1.5.0",
            "box_style": "",
            "layout": "IPY_MODEL_266139efe04b44b48d332ea80b0f1b9f",
            "_model_module": "@jupyter-widgets/controls",
            "children": [
              "IPY_MODEL_d540b2cd6fde48aebafa74bafdb15de9",
              "IPY_MODEL_dadd3bf1b81b4d359b8912346ed64c75"
            ]
          }
        },
        "266139efe04b44b48d332ea80b0f1b9f": {
          "model_module": "@jupyter-widgets/base",
          "model_name": "LayoutModel",
          "state": {
            "_view_name": "LayoutView",
            "grid_template_rows": null,
            "right": null,
            "justify_content": null,
            "_view_module": "@jupyter-widgets/base",
            "overflow": null,
            "_model_module_version": "1.2.0",
            "_view_count": null,
            "flex_flow": null,
            "width": null,
            "min_width": null,
            "border": null,
            "align_items": null,
            "bottom": null,
            "_model_module": "@jupyter-widgets/base",
            "top": null,
            "grid_column": null,
            "overflow_y": null,
            "overflow_x": null,
            "grid_auto_flow": null,
            "grid_area": null,
            "grid_template_columns": null,
            "flex": null,
            "_model_name": "LayoutModel",
            "justify_items": null,
            "grid_row": null,
            "max_height": null,
            "align_content": null,
            "visibility": null,
            "align_self": null,
            "height": null,
            "min_height": null,
            "padding": null,
            "grid_auto_rows": null,
            "grid_gap": null,
            "max_width": null,
            "order": null,
            "_view_module_version": "1.2.0",
            "grid_template_areas": null,
            "object_position": null,
            "object_fit": null,
            "grid_auto_columns": null,
            "margin": null,
            "display": null,
            "left": null
          }
        },
        "d540b2cd6fde48aebafa74bafdb15de9": {
          "model_module": "@jupyter-widgets/controls",
          "model_name": "FloatProgressModel",
          "state": {
            "_view_name": "ProgressView",
            "style": "IPY_MODEL_b1d65b79cae843aea1e588e2a1a87790",
            "_dom_classes": [],
            "description": "100%",
            "_model_name": "FloatProgressModel",
            "bar_style": "success",
            "max": 50,
            "_view_module": "@jupyter-widgets/controls",
            "_model_module_version": "1.5.0",
            "value": 50,
            "_view_count": null,
            "_view_module_version": "1.5.0",
            "orientation": "horizontal",
            "min": 0,
            "description_tooltip": null,
            "_model_module": "@jupyter-widgets/controls",
            "layout": "IPY_MODEL_ed8dba871ad84d5c9317d9ef2864af91"
          }
        },
        "dadd3bf1b81b4d359b8912346ed64c75": {
          "model_module": "@jupyter-widgets/controls",
          "model_name": "HTMLModel",
          "state": {
            "_view_name": "HTMLView",
            "style": "IPY_MODEL_6af75b2d788848efb92794cd9ad001d4",
            "_dom_classes": [],
            "description": "",
            "_model_name": "HTMLModel",
            "placeholder": "​",
            "_view_module": "@jupyter-widgets/controls",
            "_model_module_version": "1.5.0",
            "value": " 50/50 [22:33&lt;00:00, 27.07s/it]",
            "_view_count": null,
            "_view_module_version": "1.5.0",
            "description_tooltip": null,
            "_model_module": "@jupyter-widgets/controls",
            "layout": "IPY_MODEL_68565248f6ec424ea01525fb692badb0"
          }
        },
        "b1d65b79cae843aea1e588e2a1a87790": {
          "model_module": "@jupyter-widgets/controls",
          "model_name": "ProgressStyleModel",
          "state": {
            "_view_name": "StyleView",
            "_model_name": "ProgressStyleModel",
            "description_width": "initial",
            "_view_module": "@jupyter-widgets/base",
            "_model_module_version": "1.5.0",
            "_view_count": null,
            "_view_module_version": "1.2.0",
            "bar_color": null,
            "_model_module": "@jupyter-widgets/controls"
          }
        },
        "ed8dba871ad84d5c9317d9ef2864af91": {
          "model_module": "@jupyter-widgets/base",
          "model_name": "LayoutModel",
          "state": {
            "_view_name": "LayoutView",
            "grid_template_rows": null,
            "right": null,
            "justify_content": null,
            "_view_module": "@jupyter-widgets/base",
            "overflow": null,
            "_model_module_version": "1.2.0",
            "_view_count": null,
            "flex_flow": null,
            "width": null,
            "min_width": null,
            "border": null,
            "align_items": null,
            "bottom": null,
            "_model_module": "@jupyter-widgets/base",
            "top": null,
            "grid_column": null,
            "overflow_y": null,
            "overflow_x": null,
            "grid_auto_flow": null,
            "grid_area": null,
            "grid_template_columns": null,
            "flex": null,
            "_model_name": "LayoutModel",
            "justify_items": null,
            "grid_row": null,
            "max_height": null,
            "align_content": null,
            "visibility": null,
            "align_self": null,
            "height": null,
            "min_height": null,
            "padding": null,
            "grid_auto_rows": null,
            "grid_gap": null,
            "max_width": null,
            "order": null,
            "_view_module_version": "1.2.0",
            "grid_template_areas": null,
            "object_position": null,
            "object_fit": null,
            "grid_auto_columns": null,
            "margin": null,
            "display": null,
            "left": null
          }
        },
        "6af75b2d788848efb92794cd9ad001d4": {
          "model_module": "@jupyter-widgets/controls",
          "model_name": "DescriptionStyleModel",
          "state": {
            "_view_name": "StyleView",
            "_model_name": "DescriptionStyleModel",
            "description_width": "",
            "_view_module": "@jupyter-widgets/base",
            "_model_module_version": "1.5.0",
            "_view_count": null,
            "_view_module_version": "1.2.0",
            "_model_module": "@jupyter-widgets/controls"
          }
        },
        "68565248f6ec424ea01525fb692badb0": {
          "model_module": "@jupyter-widgets/base",
          "model_name": "LayoutModel",
          "state": {
            "_view_name": "LayoutView",
            "grid_template_rows": null,
            "right": null,
            "justify_content": null,
            "_view_module": "@jupyter-widgets/base",
            "overflow": null,
            "_model_module_version": "1.2.0",
            "_view_count": null,
            "flex_flow": null,
            "width": null,
            "min_width": null,
            "border": null,
            "align_items": null,
            "bottom": null,
            "_model_module": "@jupyter-widgets/base",
            "top": null,
            "grid_column": null,
            "overflow_y": null,
            "overflow_x": null,
            "grid_auto_flow": null,
            "grid_area": null,
            "grid_template_columns": null,
            "flex": null,
            "_model_name": "LayoutModel",
            "justify_items": null,
            "grid_row": null,
            "max_height": null,
            "align_content": null,
            "visibility": null,
            "align_self": null,
            "height": null,
            "min_height": null,
            "padding": null,
            "grid_auto_rows": null,
            "grid_gap": null,
            "max_width": null,
            "order": null,
            "_view_module_version": "1.2.0",
            "grid_template_areas": null,
            "object_position": null,
            "object_fit": null,
            "grid_auto_columns": null,
            "margin": null,
            "display": null,
            "left": null
          }
        },
        "1d773c0e693a478ab7c202c385ab2966": {
          "model_module": "@jupyter-widgets/controls",
          "model_name": "HBoxModel",
          "state": {
            "_view_name": "HBoxView",
            "_dom_classes": [],
            "_model_name": "HBoxModel",
            "_view_module": "@jupyter-widgets/controls",
            "_model_module_version": "1.5.0",
            "_view_count": null,
            "_view_module_version": "1.5.0",
            "box_style": "",
            "layout": "IPY_MODEL_04237e8efd324e568dc86da7622d7139",
            "_model_module": "@jupyter-widgets/controls",
            "children": [
              "IPY_MODEL_f2ce98f970804e3ba022fe770adcaf2a",
              "IPY_MODEL_6f7d34afcc6b423b8b1f2e8ec0371128"
            ]
          }
        },
        "04237e8efd324e568dc86da7622d7139": {
          "model_module": "@jupyter-widgets/base",
          "model_name": "LayoutModel",
          "state": {
            "_view_name": "LayoutView",
            "grid_template_rows": null,
            "right": null,
            "justify_content": null,
            "_view_module": "@jupyter-widgets/base",
            "overflow": null,
            "_model_module_version": "1.2.0",
            "_view_count": null,
            "flex_flow": null,
            "width": null,
            "min_width": null,
            "border": null,
            "align_items": null,
            "bottom": null,
            "_model_module": "@jupyter-widgets/base",
            "top": null,
            "grid_column": null,
            "overflow_y": null,
            "overflow_x": null,
            "grid_auto_flow": null,
            "grid_area": null,
            "grid_template_columns": null,
            "flex": null,
            "_model_name": "LayoutModel",
            "justify_items": null,
            "grid_row": null,
            "max_height": null,
            "align_content": null,
            "visibility": null,
            "align_self": null,
            "height": null,
            "min_height": null,
            "padding": null,
            "grid_auto_rows": null,
            "grid_gap": null,
            "max_width": null,
            "order": null,
            "_view_module_version": "1.2.0",
            "grid_template_areas": null,
            "object_position": null,
            "object_fit": null,
            "grid_auto_columns": null,
            "margin": null,
            "display": null,
            "left": null
          }
        },
        "f2ce98f970804e3ba022fe770adcaf2a": {
          "model_module": "@jupyter-widgets/controls",
          "model_name": "FloatProgressModel",
          "state": {
            "_view_name": "ProgressView",
            "style": "IPY_MODEL_64f6e9ba5705494bb739242e2f4df838",
            "_dom_classes": [],
            "description": "100%",
            "_model_name": "FloatProgressModel",
            "bar_style": "success",
            "max": 50,
            "_view_module": "@jupyter-widgets/controls",
            "_model_module_version": "1.5.0",
            "value": 50,
            "_view_count": null,
            "_view_module_version": "1.5.0",
            "orientation": "horizontal",
            "min": 0,
            "description_tooltip": null,
            "_model_module": "@jupyter-widgets/controls",
            "layout": "IPY_MODEL_07ba385704b34db3ae852190ff11964a"
          }
        },
        "6f7d34afcc6b423b8b1f2e8ec0371128": {
          "model_module": "@jupyter-widgets/controls",
          "model_name": "HTMLModel",
          "state": {
            "_view_name": "HTMLView",
            "style": "IPY_MODEL_640f89762f5e4e9aadd29394a1972b7d",
            "_dom_classes": [],
            "description": "",
            "_model_name": "HTMLModel",
            "placeholder": "​",
            "_view_module": "@jupyter-widgets/controls",
            "_model_module_version": "1.5.0",
            "value": " 50/50 [16:59&lt;00:00, 20.40s/it]",
            "_view_count": null,
            "_view_module_version": "1.5.0",
            "description_tooltip": null,
            "_model_module": "@jupyter-widgets/controls",
            "layout": "IPY_MODEL_e214dbd99d8f4504b2b23e01b159fdc8"
          }
        },
        "64f6e9ba5705494bb739242e2f4df838": {
          "model_module": "@jupyter-widgets/controls",
          "model_name": "ProgressStyleModel",
          "state": {
            "_view_name": "StyleView",
            "_model_name": "ProgressStyleModel",
            "description_width": "initial",
            "_view_module": "@jupyter-widgets/base",
            "_model_module_version": "1.5.0",
            "_view_count": null,
            "_view_module_version": "1.2.0",
            "bar_color": null,
            "_model_module": "@jupyter-widgets/controls"
          }
        },
        "07ba385704b34db3ae852190ff11964a": {
          "model_module": "@jupyter-widgets/base",
          "model_name": "LayoutModel",
          "state": {
            "_view_name": "LayoutView",
            "grid_template_rows": null,
            "right": null,
            "justify_content": null,
            "_view_module": "@jupyter-widgets/base",
            "overflow": null,
            "_model_module_version": "1.2.0",
            "_view_count": null,
            "flex_flow": null,
            "width": null,
            "min_width": null,
            "border": null,
            "align_items": null,
            "bottom": null,
            "_model_module": "@jupyter-widgets/base",
            "top": null,
            "grid_column": null,
            "overflow_y": null,
            "overflow_x": null,
            "grid_auto_flow": null,
            "grid_area": null,
            "grid_template_columns": null,
            "flex": null,
            "_model_name": "LayoutModel",
            "justify_items": null,
            "grid_row": null,
            "max_height": null,
            "align_content": null,
            "visibility": null,
            "align_self": null,
            "height": null,
            "min_height": null,
            "padding": null,
            "grid_auto_rows": null,
            "grid_gap": null,
            "max_width": null,
            "order": null,
            "_view_module_version": "1.2.0",
            "grid_template_areas": null,
            "object_position": null,
            "object_fit": null,
            "grid_auto_columns": null,
            "margin": null,
            "display": null,
            "left": null
          }
        },
        "640f89762f5e4e9aadd29394a1972b7d": {
          "model_module": "@jupyter-widgets/controls",
          "model_name": "DescriptionStyleModel",
          "state": {
            "_view_name": "StyleView",
            "_model_name": "DescriptionStyleModel",
            "description_width": "",
            "_view_module": "@jupyter-widgets/base",
            "_model_module_version": "1.5.0",
            "_view_count": null,
            "_view_module_version": "1.2.0",
            "_model_module": "@jupyter-widgets/controls"
          }
        },
        "e214dbd99d8f4504b2b23e01b159fdc8": {
          "model_module": "@jupyter-widgets/base",
          "model_name": "LayoutModel",
          "state": {
            "_view_name": "LayoutView",
            "grid_template_rows": null,
            "right": null,
            "justify_content": null,
            "_view_module": "@jupyter-widgets/base",
            "overflow": null,
            "_model_module_version": "1.2.0",
            "_view_count": null,
            "flex_flow": null,
            "width": null,
            "min_width": null,
            "border": null,
            "align_items": null,
            "bottom": null,
            "_model_module": "@jupyter-widgets/base",
            "top": null,
            "grid_column": null,
            "overflow_y": null,
            "overflow_x": null,
            "grid_auto_flow": null,
            "grid_area": null,
            "grid_template_columns": null,
            "flex": null,
            "_model_name": "LayoutModel",
            "justify_items": null,
            "grid_row": null,
            "max_height": null,
            "align_content": null,
            "visibility": null,
            "align_self": null,
            "height": null,
            "min_height": null,
            "padding": null,
            "grid_auto_rows": null,
            "grid_gap": null,
            "max_width": null,
            "order": null,
            "_view_module_version": "1.2.0",
            "grid_template_areas": null,
            "object_position": null,
            "object_fit": null,
            "grid_auto_columns": null,
            "margin": null,
            "display": null,
            "left": null
          }
        },
        "011942fd60f04397bf4384455f9a4cee": {
          "model_module": "@jupyter-widgets/controls",
          "model_name": "HBoxModel",
          "state": {
            "_view_name": "HBoxView",
            "_dom_classes": [],
            "_model_name": "HBoxModel",
            "_view_module": "@jupyter-widgets/controls",
            "_model_module_version": "1.5.0",
            "_view_count": null,
            "_view_module_version": "1.5.0",
            "box_style": "",
            "layout": "IPY_MODEL_b1c12a69a8be431296a90850a93c6e57",
            "_model_module": "@jupyter-widgets/controls",
            "children": [
              "IPY_MODEL_0013fd4e71eb47ae9300fc773391940e",
              "IPY_MODEL_44c18f00aa5e441087c14c824faf64e4"
            ]
          }
        },
        "b1c12a69a8be431296a90850a93c6e57": {
          "model_module": "@jupyter-widgets/base",
          "model_name": "LayoutModel",
          "state": {
            "_view_name": "LayoutView",
            "grid_template_rows": null,
            "right": null,
            "justify_content": null,
            "_view_module": "@jupyter-widgets/base",
            "overflow": null,
            "_model_module_version": "1.2.0",
            "_view_count": null,
            "flex_flow": null,
            "width": null,
            "min_width": null,
            "border": null,
            "align_items": null,
            "bottom": null,
            "_model_module": "@jupyter-widgets/base",
            "top": null,
            "grid_column": null,
            "overflow_y": null,
            "overflow_x": null,
            "grid_auto_flow": null,
            "grid_area": null,
            "grid_template_columns": null,
            "flex": null,
            "_model_name": "LayoutModel",
            "justify_items": null,
            "grid_row": null,
            "max_height": null,
            "align_content": null,
            "visibility": null,
            "align_self": null,
            "height": null,
            "min_height": null,
            "padding": null,
            "grid_auto_rows": null,
            "grid_gap": null,
            "max_width": null,
            "order": null,
            "_view_module_version": "1.2.0",
            "grid_template_areas": null,
            "object_position": null,
            "object_fit": null,
            "grid_auto_columns": null,
            "margin": null,
            "display": null,
            "left": null
          }
        },
        "0013fd4e71eb47ae9300fc773391940e": {
          "model_module": "@jupyter-widgets/controls",
          "model_name": "FloatProgressModel",
          "state": {
            "_view_name": "ProgressView",
            "style": "IPY_MODEL_820c4432ee49467998e204c2da1ebe02",
            "_dom_classes": [],
            "description": "100%",
            "_model_name": "FloatProgressModel",
            "bar_style": "success",
            "max": 50,
            "_view_module": "@jupyter-widgets/controls",
            "_model_module_version": "1.5.0",
            "value": 50,
            "_view_count": null,
            "_view_module_version": "1.5.0",
            "orientation": "horizontal",
            "min": 0,
            "description_tooltip": null,
            "_model_module": "@jupyter-widgets/controls",
            "layout": "IPY_MODEL_6495a7a26f18458193271e6ab82ff407"
          }
        },
        "44c18f00aa5e441087c14c824faf64e4": {
          "model_module": "@jupyter-widgets/controls",
          "model_name": "HTMLModel",
          "state": {
            "_view_name": "HTMLView",
            "style": "IPY_MODEL_376187ce94244df6932a3e7f23f3e833",
            "_dom_classes": [],
            "description": "",
            "_model_name": "HTMLModel",
            "placeholder": "​",
            "_view_module": "@jupyter-widgets/controls",
            "_model_module_version": "1.5.0",
            "value": " 50/50 [12:00&lt;00:00, 14.42s/it]",
            "_view_count": null,
            "_view_module_version": "1.5.0",
            "description_tooltip": null,
            "_model_module": "@jupyter-widgets/controls",
            "layout": "IPY_MODEL_1a8d6b2095dd40e899bcee58a85af5f2"
          }
        },
        "820c4432ee49467998e204c2da1ebe02": {
          "model_module": "@jupyter-widgets/controls",
          "model_name": "ProgressStyleModel",
          "state": {
            "_view_name": "StyleView",
            "_model_name": "ProgressStyleModel",
            "description_width": "initial",
            "_view_module": "@jupyter-widgets/base",
            "_model_module_version": "1.5.0",
            "_view_count": null,
            "_view_module_version": "1.2.0",
            "bar_color": null,
            "_model_module": "@jupyter-widgets/controls"
          }
        },
        "6495a7a26f18458193271e6ab82ff407": {
          "model_module": "@jupyter-widgets/base",
          "model_name": "LayoutModel",
          "state": {
            "_view_name": "LayoutView",
            "grid_template_rows": null,
            "right": null,
            "justify_content": null,
            "_view_module": "@jupyter-widgets/base",
            "overflow": null,
            "_model_module_version": "1.2.0",
            "_view_count": null,
            "flex_flow": null,
            "width": null,
            "min_width": null,
            "border": null,
            "align_items": null,
            "bottom": null,
            "_model_module": "@jupyter-widgets/base",
            "top": null,
            "grid_column": null,
            "overflow_y": null,
            "overflow_x": null,
            "grid_auto_flow": null,
            "grid_area": null,
            "grid_template_columns": null,
            "flex": null,
            "_model_name": "LayoutModel",
            "justify_items": null,
            "grid_row": null,
            "max_height": null,
            "align_content": null,
            "visibility": null,
            "align_self": null,
            "height": null,
            "min_height": null,
            "padding": null,
            "grid_auto_rows": null,
            "grid_gap": null,
            "max_width": null,
            "order": null,
            "_view_module_version": "1.2.0",
            "grid_template_areas": null,
            "object_position": null,
            "object_fit": null,
            "grid_auto_columns": null,
            "margin": null,
            "display": null,
            "left": null
          }
        },
        "376187ce94244df6932a3e7f23f3e833": {
          "model_module": "@jupyter-widgets/controls",
          "model_name": "DescriptionStyleModel",
          "state": {
            "_view_name": "StyleView",
            "_model_name": "DescriptionStyleModel",
            "description_width": "",
            "_view_module": "@jupyter-widgets/base",
            "_model_module_version": "1.5.0",
            "_view_count": null,
            "_view_module_version": "1.2.0",
            "_model_module": "@jupyter-widgets/controls"
          }
        },
        "1a8d6b2095dd40e899bcee58a85af5f2": {
          "model_module": "@jupyter-widgets/base",
          "model_name": "LayoutModel",
          "state": {
            "_view_name": "LayoutView",
            "grid_template_rows": null,
            "right": null,
            "justify_content": null,
            "_view_module": "@jupyter-widgets/base",
            "overflow": null,
            "_model_module_version": "1.2.0",
            "_view_count": null,
            "flex_flow": null,
            "width": null,
            "min_width": null,
            "border": null,
            "align_items": null,
            "bottom": null,
            "_model_module": "@jupyter-widgets/base",
            "top": null,
            "grid_column": null,
            "overflow_y": null,
            "overflow_x": null,
            "grid_auto_flow": null,
            "grid_area": null,
            "grid_template_columns": null,
            "flex": null,
            "_model_name": "LayoutModel",
            "justify_items": null,
            "grid_row": null,
            "max_height": null,
            "align_content": null,
            "visibility": null,
            "align_self": null,
            "height": null,
            "min_height": null,
            "padding": null,
            "grid_auto_rows": null,
            "grid_gap": null,
            "max_width": null,
            "order": null,
            "_view_module_version": "1.2.0",
            "grid_template_areas": null,
            "object_position": null,
            "object_fit": null,
            "grid_auto_columns": null,
            "margin": null,
            "display": null,
            "left": null
          }
        },
        "e24cec0fc8794f7cafd5fc2ae6347c29": {
          "model_module": "@jupyter-widgets/controls",
          "model_name": "HBoxModel",
          "state": {
            "_view_name": "HBoxView",
            "_dom_classes": [],
            "_model_name": "HBoxModel",
            "_view_module": "@jupyter-widgets/controls",
            "_model_module_version": "1.5.0",
            "_view_count": null,
            "_view_module_version": "1.5.0",
            "box_style": "",
            "layout": "IPY_MODEL_385d5fbb45964307a38897cdcc0b9d07",
            "_model_module": "@jupyter-widgets/controls",
            "children": [
              "IPY_MODEL_db87f0b476e545c693a68d5426ce124c",
              "IPY_MODEL_821f241a720f419ca3c61dfbe7ff1325"
            ]
          }
        },
        "385d5fbb45964307a38897cdcc0b9d07": {
          "model_module": "@jupyter-widgets/base",
          "model_name": "LayoutModel",
          "state": {
            "_view_name": "LayoutView",
            "grid_template_rows": null,
            "right": null,
            "justify_content": null,
            "_view_module": "@jupyter-widgets/base",
            "overflow": null,
            "_model_module_version": "1.2.0",
            "_view_count": null,
            "flex_flow": null,
            "width": null,
            "min_width": null,
            "border": null,
            "align_items": null,
            "bottom": null,
            "_model_module": "@jupyter-widgets/base",
            "top": null,
            "grid_column": null,
            "overflow_y": null,
            "overflow_x": null,
            "grid_auto_flow": null,
            "grid_area": null,
            "grid_template_columns": null,
            "flex": null,
            "_model_name": "LayoutModel",
            "justify_items": null,
            "grid_row": null,
            "max_height": null,
            "align_content": null,
            "visibility": null,
            "align_self": null,
            "height": null,
            "min_height": null,
            "padding": null,
            "grid_auto_rows": null,
            "grid_gap": null,
            "max_width": null,
            "order": null,
            "_view_module_version": "1.2.0",
            "grid_template_areas": null,
            "object_position": null,
            "object_fit": null,
            "grid_auto_columns": null,
            "margin": null,
            "display": null,
            "left": null
          }
        },
        "db87f0b476e545c693a68d5426ce124c": {
          "model_module": "@jupyter-widgets/controls",
          "model_name": "FloatProgressModel",
          "state": {
            "_view_name": "ProgressView",
            "style": "IPY_MODEL_75d6a6fdf61c47e1958b40dce884b4fb",
            "_dom_classes": [],
            "description": "100%",
            "_model_name": "FloatProgressModel",
            "bar_style": "success",
            "max": 50,
            "_view_module": "@jupyter-widgets/controls",
            "_model_module_version": "1.5.0",
            "value": 50,
            "_view_count": null,
            "_view_module_version": "1.5.0",
            "orientation": "horizontal",
            "min": 0,
            "description_tooltip": null,
            "_model_module": "@jupyter-widgets/controls",
            "layout": "IPY_MODEL_2b21a741e4d240e5a196d00ae9375405"
          }
        },
        "821f241a720f419ca3c61dfbe7ff1325": {
          "model_module": "@jupyter-widgets/controls",
          "model_name": "HTMLModel",
          "state": {
            "_view_name": "HTMLView",
            "style": "IPY_MODEL_ce00af6d0c3c4d308d29837bc0fba64f",
            "_dom_classes": [],
            "description": "",
            "_model_name": "HTMLModel",
            "placeholder": "​",
            "_view_module": "@jupyter-widgets/controls",
            "_model_module_version": "1.5.0",
            "value": " 50/50 [04:39&lt;00:00,  5.60s/it]",
            "_view_count": null,
            "_view_module_version": "1.5.0",
            "description_tooltip": null,
            "_model_module": "@jupyter-widgets/controls",
            "layout": "IPY_MODEL_a8b06da9898347d0a190a5c8c2cfae94"
          }
        },
        "75d6a6fdf61c47e1958b40dce884b4fb": {
          "model_module": "@jupyter-widgets/controls",
          "model_name": "ProgressStyleModel",
          "state": {
            "_view_name": "StyleView",
            "_model_name": "ProgressStyleModel",
            "description_width": "initial",
            "_view_module": "@jupyter-widgets/base",
            "_model_module_version": "1.5.0",
            "_view_count": null,
            "_view_module_version": "1.2.0",
            "bar_color": null,
            "_model_module": "@jupyter-widgets/controls"
          }
        },
        "2b21a741e4d240e5a196d00ae9375405": {
          "model_module": "@jupyter-widgets/base",
          "model_name": "LayoutModel",
          "state": {
            "_view_name": "LayoutView",
            "grid_template_rows": null,
            "right": null,
            "justify_content": null,
            "_view_module": "@jupyter-widgets/base",
            "overflow": null,
            "_model_module_version": "1.2.0",
            "_view_count": null,
            "flex_flow": null,
            "width": null,
            "min_width": null,
            "border": null,
            "align_items": null,
            "bottom": null,
            "_model_module": "@jupyter-widgets/base",
            "top": null,
            "grid_column": null,
            "overflow_y": null,
            "overflow_x": null,
            "grid_auto_flow": null,
            "grid_area": null,
            "grid_template_columns": null,
            "flex": null,
            "_model_name": "LayoutModel",
            "justify_items": null,
            "grid_row": null,
            "max_height": null,
            "align_content": null,
            "visibility": null,
            "align_self": null,
            "height": null,
            "min_height": null,
            "padding": null,
            "grid_auto_rows": null,
            "grid_gap": null,
            "max_width": null,
            "order": null,
            "_view_module_version": "1.2.0",
            "grid_template_areas": null,
            "object_position": null,
            "object_fit": null,
            "grid_auto_columns": null,
            "margin": null,
            "display": null,
            "left": null
          }
        },
        "ce00af6d0c3c4d308d29837bc0fba64f": {
          "model_module": "@jupyter-widgets/controls",
          "model_name": "DescriptionStyleModel",
          "state": {
            "_view_name": "StyleView",
            "_model_name": "DescriptionStyleModel",
            "description_width": "",
            "_view_module": "@jupyter-widgets/base",
            "_model_module_version": "1.5.0",
            "_view_count": null,
            "_view_module_version": "1.2.0",
            "_model_module": "@jupyter-widgets/controls"
          }
        },
        "a8b06da9898347d0a190a5c8c2cfae94": {
          "model_module": "@jupyter-widgets/base",
          "model_name": "LayoutModel",
          "state": {
            "_view_name": "LayoutView",
            "grid_template_rows": null,
            "right": null,
            "justify_content": null,
            "_view_module": "@jupyter-widgets/base",
            "overflow": null,
            "_model_module_version": "1.2.0",
            "_view_count": null,
            "flex_flow": null,
            "width": null,
            "min_width": null,
            "border": null,
            "align_items": null,
            "bottom": null,
            "_model_module": "@jupyter-widgets/base",
            "top": null,
            "grid_column": null,
            "overflow_y": null,
            "overflow_x": null,
            "grid_auto_flow": null,
            "grid_area": null,
            "grid_template_columns": null,
            "flex": null,
            "_model_name": "LayoutModel",
            "justify_items": null,
            "grid_row": null,
            "max_height": null,
            "align_content": null,
            "visibility": null,
            "align_self": null,
            "height": null,
            "min_height": null,
            "padding": null,
            "grid_auto_rows": null,
            "grid_gap": null,
            "max_width": null,
            "order": null,
            "_view_module_version": "1.2.0",
            "grid_template_areas": null,
            "object_position": null,
            "object_fit": null,
            "grid_auto_columns": null,
            "margin": null,
            "display": null,
            "left": null
          }
        },
        "9a7d4f833062452980b896252333faec": {
          "model_module": "@jupyter-widgets/controls",
          "model_name": "HBoxModel",
          "state": {
            "_view_name": "HBoxView",
            "_dom_classes": [],
            "_model_name": "HBoxModel",
            "_view_module": "@jupyter-widgets/controls",
            "_model_module_version": "1.5.0",
            "_view_count": null,
            "_view_module_version": "1.5.0",
            "box_style": "",
            "layout": "IPY_MODEL_868e8c75961042bba6e987ece8a9817c",
            "_model_module": "@jupyter-widgets/controls",
            "children": [
              "IPY_MODEL_cd898ddf4a554776b0566eb180558ac1",
              "IPY_MODEL_4fa4c07fe99b49b7a9b88ebfd26978a6"
            ]
          }
        },
        "868e8c75961042bba6e987ece8a9817c": {
          "model_module": "@jupyter-widgets/base",
          "model_name": "LayoutModel",
          "state": {
            "_view_name": "LayoutView",
            "grid_template_rows": null,
            "right": null,
            "justify_content": null,
            "_view_module": "@jupyter-widgets/base",
            "overflow": null,
            "_model_module_version": "1.2.0",
            "_view_count": null,
            "flex_flow": null,
            "width": null,
            "min_width": null,
            "border": null,
            "align_items": null,
            "bottom": null,
            "_model_module": "@jupyter-widgets/base",
            "top": null,
            "grid_column": null,
            "overflow_y": null,
            "overflow_x": null,
            "grid_auto_flow": null,
            "grid_area": null,
            "grid_template_columns": null,
            "flex": null,
            "_model_name": "LayoutModel",
            "justify_items": null,
            "grid_row": null,
            "max_height": null,
            "align_content": null,
            "visibility": null,
            "align_self": null,
            "height": null,
            "min_height": null,
            "padding": null,
            "grid_auto_rows": null,
            "grid_gap": null,
            "max_width": null,
            "order": null,
            "_view_module_version": "1.2.0",
            "grid_template_areas": null,
            "object_position": null,
            "object_fit": null,
            "grid_auto_columns": null,
            "margin": null,
            "display": null,
            "left": null
          }
        },
        "cd898ddf4a554776b0566eb180558ac1": {
          "model_module": "@jupyter-widgets/controls",
          "model_name": "FloatProgressModel",
          "state": {
            "_view_name": "ProgressView",
            "style": "IPY_MODEL_0bbd95f6983b4ee4af183557f9863e0d",
            "_dom_classes": [],
            "description": "100%",
            "_model_name": "FloatProgressModel",
            "bar_style": "success",
            "max": 50,
            "_view_module": "@jupyter-widgets/controls",
            "_model_module_version": "1.5.0",
            "value": 50,
            "_view_count": null,
            "_view_module_version": "1.5.0",
            "orientation": "horizontal",
            "min": 0,
            "description_tooltip": null,
            "_model_module": "@jupyter-widgets/controls",
            "layout": "IPY_MODEL_037d89c8219348888e183cf6fd9c115a"
          }
        },
        "4fa4c07fe99b49b7a9b88ebfd26978a6": {
          "model_module": "@jupyter-widgets/controls",
          "model_name": "HTMLModel",
          "state": {
            "_view_name": "HTMLView",
            "style": "IPY_MODEL_592f470dc69242efadefa8915afc9f0b",
            "_dom_classes": [],
            "description": "",
            "_model_name": "HTMLModel",
            "placeholder": "​",
            "_view_module": "@jupyter-widgets/controls",
            "_model_module_version": "1.5.0",
            "value": " 50/50 [25:21&lt;00:00, 30.43s/it]",
            "_view_count": null,
            "_view_module_version": "1.5.0",
            "description_tooltip": null,
            "_model_module": "@jupyter-widgets/controls",
            "layout": "IPY_MODEL_f9775f1c63994b60b1f9c2b24426cd61"
          }
        },
        "0bbd95f6983b4ee4af183557f9863e0d": {
          "model_module": "@jupyter-widgets/controls",
          "model_name": "ProgressStyleModel",
          "state": {
            "_view_name": "StyleView",
            "_model_name": "ProgressStyleModel",
            "description_width": "initial",
            "_view_module": "@jupyter-widgets/base",
            "_model_module_version": "1.5.0",
            "_view_count": null,
            "_view_module_version": "1.2.0",
            "bar_color": null,
            "_model_module": "@jupyter-widgets/controls"
          }
        },
        "037d89c8219348888e183cf6fd9c115a": {
          "model_module": "@jupyter-widgets/base",
          "model_name": "LayoutModel",
          "state": {
            "_view_name": "LayoutView",
            "grid_template_rows": null,
            "right": null,
            "justify_content": null,
            "_view_module": "@jupyter-widgets/base",
            "overflow": null,
            "_model_module_version": "1.2.0",
            "_view_count": null,
            "flex_flow": null,
            "width": null,
            "min_width": null,
            "border": null,
            "align_items": null,
            "bottom": null,
            "_model_module": "@jupyter-widgets/base",
            "top": null,
            "grid_column": null,
            "overflow_y": null,
            "overflow_x": null,
            "grid_auto_flow": null,
            "grid_area": null,
            "grid_template_columns": null,
            "flex": null,
            "_model_name": "LayoutModel",
            "justify_items": null,
            "grid_row": null,
            "max_height": null,
            "align_content": null,
            "visibility": null,
            "align_self": null,
            "height": null,
            "min_height": null,
            "padding": null,
            "grid_auto_rows": null,
            "grid_gap": null,
            "max_width": null,
            "order": null,
            "_view_module_version": "1.2.0",
            "grid_template_areas": null,
            "object_position": null,
            "object_fit": null,
            "grid_auto_columns": null,
            "margin": null,
            "display": null,
            "left": null
          }
        },
        "592f470dc69242efadefa8915afc9f0b": {
          "model_module": "@jupyter-widgets/controls",
          "model_name": "DescriptionStyleModel",
          "state": {
            "_view_name": "StyleView",
            "_model_name": "DescriptionStyleModel",
            "description_width": "",
            "_view_module": "@jupyter-widgets/base",
            "_model_module_version": "1.5.0",
            "_view_count": null,
            "_view_module_version": "1.2.0",
            "_model_module": "@jupyter-widgets/controls"
          }
        },
        "f9775f1c63994b60b1f9c2b24426cd61": {
          "model_module": "@jupyter-widgets/base",
          "model_name": "LayoutModel",
          "state": {
            "_view_name": "LayoutView",
            "grid_template_rows": null,
            "right": null,
            "justify_content": null,
            "_view_module": "@jupyter-widgets/base",
            "overflow": null,
            "_model_module_version": "1.2.0",
            "_view_count": null,
            "flex_flow": null,
            "width": null,
            "min_width": null,
            "border": null,
            "align_items": null,
            "bottom": null,
            "_model_module": "@jupyter-widgets/base",
            "top": null,
            "grid_column": null,
            "overflow_y": null,
            "overflow_x": null,
            "grid_auto_flow": null,
            "grid_area": null,
            "grid_template_columns": null,
            "flex": null,
            "_model_name": "LayoutModel",
            "justify_items": null,
            "grid_row": null,
            "max_height": null,
            "align_content": null,
            "visibility": null,
            "align_self": null,
            "height": null,
            "min_height": null,
            "padding": null,
            "grid_auto_rows": null,
            "grid_gap": null,
            "max_width": null,
            "order": null,
            "_view_module_version": "1.2.0",
            "grid_template_areas": null,
            "object_position": null,
            "object_fit": null,
            "grid_auto_columns": null,
            "margin": null,
            "display": null,
            "left": null
          }
        },
        "af494215fbae4035bee3719ad84eed22": {
          "model_module": "@jupyter-widgets/controls",
          "model_name": "HBoxModel",
          "state": {
            "_view_name": "HBoxView",
            "_dom_classes": [],
            "_model_name": "HBoxModel",
            "_view_module": "@jupyter-widgets/controls",
            "_model_module_version": "1.5.0",
            "_view_count": null,
            "_view_module_version": "1.5.0",
            "box_style": "",
            "layout": "IPY_MODEL_6e248075b98345f591b3834389303141",
            "_model_module": "@jupyter-widgets/controls",
            "children": [
              "IPY_MODEL_af43d0db42e54b6d8c4cb1603e7652b0",
              "IPY_MODEL_f73e4876f51243a8bfea9bec0b23d529"
            ]
          }
        },
        "6e248075b98345f591b3834389303141": {
          "model_module": "@jupyter-widgets/base",
          "model_name": "LayoutModel",
          "state": {
            "_view_name": "LayoutView",
            "grid_template_rows": null,
            "right": null,
            "justify_content": null,
            "_view_module": "@jupyter-widgets/base",
            "overflow": null,
            "_model_module_version": "1.2.0",
            "_view_count": null,
            "flex_flow": null,
            "width": null,
            "min_width": null,
            "border": null,
            "align_items": null,
            "bottom": null,
            "_model_module": "@jupyter-widgets/base",
            "top": null,
            "grid_column": null,
            "overflow_y": null,
            "overflow_x": null,
            "grid_auto_flow": null,
            "grid_area": null,
            "grid_template_columns": null,
            "flex": null,
            "_model_name": "LayoutModel",
            "justify_items": null,
            "grid_row": null,
            "max_height": null,
            "align_content": null,
            "visibility": null,
            "align_self": null,
            "height": null,
            "min_height": null,
            "padding": null,
            "grid_auto_rows": null,
            "grid_gap": null,
            "max_width": null,
            "order": null,
            "_view_module_version": "1.2.0",
            "grid_template_areas": null,
            "object_position": null,
            "object_fit": null,
            "grid_auto_columns": null,
            "margin": null,
            "display": null,
            "left": null
          }
        },
        "af43d0db42e54b6d8c4cb1603e7652b0": {
          "model_module": "@jupyter-widgets/controls",
          "model_name": "FloatProgressModel",
          "state": {
            "_view_name": "ProgressView",
            "style": "IPY_MODEL_a075cd6623d94deea70fac7bf3643800",
            "_dom_classes": [],
            "description": "100%",
            "_model_name": "FloatProgressModel",
            "bar_style": "success",
            "max": 50,
            "_view_module": "@jupyter-widgets/controls",
            "_model_module_version": "1.5.0",
            "value": 50,
            "_view_count": null,
            "_view_module_version": "1.5.0",
            "orientation": "horizontal",
            "min": 0,
            "description_tooltip": null,
            "_model_module": "@jupyter-widgets/controls",
            "layout": "IPY_MODEL_8cd3662e0f6440169132598b00548b5a"
          }
        },
        "f73e4876f51243a8bfea9bec0b23d529": {
          "model_module": "@jupyter-widgets/controls",
          "model_name": "HTMLModel",
          "state": {
            "_view_name": "HTMLView",
            "style": "IPY_MODEL_834deb904bab4f97b13ef787653af34c",
            "_dom_classes": [],
            "description": "",
            "_model_name": "HTMLModel",
            "placeholder": "​",
            "_view_module": "@jupyter-widgets/controls",
            "_model_module_version": "1.5.0",
            "value": " 50/50 [20:19&lt;00:00, 24.40s/it]",
            "_view_count": null,
            "_view_module_version": "1.5.0",
            "description_tooltip": null,
            "_model_module": "@jupyter-widgets/controls",
            "layout": "IPY_MODEL_40db5b8fb629433fb84d867fae5cffa0"
          }
        },
        "a075cd6623d94deea70fac7bf3643800": {
          "model_module": "@jupyter-widgets/controls",
          "model_name": "ProgressStyleModel",
          "state": {
            "_view_name": "StyleView",
            "_model_name": "ProgressStyleModel",
            "description_width": "initial",
            "_view_module": "@jupyter-widgets/base",
            "_model_module_version": "1.5.0",
            "_view_count": null,
            "_view_module_version": "1.2.0",
            "bar_color": null,
            "_model_module": "@jupyter-widgets/controls"
          }
        },
        "8cd3662e0f6440169132598b00548b5a": {
          "model_module": "@jupyter-widgets/base",
          "model_name": "LayoutModel",
          "state": {
            "_view_name": "LayoutView",
            "grid_template_rows": null,
            "right": null,
            "justify_content": null,
            "_view_module": "@jupyter-widgets/base",
            "overflow": null,
            "_model_module_version": "1.2.0",
            "_view_count": null,
            "flex_flow": null,
            "width": null,
            "min_width": null,
            "border": null,
            "align_items": null,
            "bottom": null,
            "_model_module": "@jupyter-widgets/base",
            "top": null,
            "grid_column": null,
            "overflow_y": null,
            "overflow_x": null,
            "grid_auto_flow": null,
            "grid_area": null,
            "grid_template_columns": null,
            "flex": null,
            "_model_name": "LayoutModel",
            "justify_items": null,
            "grid_row": null,
            "max_height": null,
            "align_content": null,
            "visibility": null,
            "align_self": null,
            "height": null,
            "min_height": null,
            "padding": null,
            "grid_auto_rows": null,
            "grid_gap": null,
            "max_width": null,
            "order": null,
            "_view_module_version": "1.2.0",
            "grid_template_areas": null,
            "object_position": null,
            "object_fit": null,
            "grid_auto_columns": null,
            "margin": null,
            "display": null,
            "left": null
          }
        },
        "834deb904bab4f97b13ef787653af34c": {
          "model_module": "@jupyter-widgets/controls",
          "model_name": "DescriptionStyleModel",
          "state": {
            "_view_name": "StyleView",
            "_model_name": "DescriptionStyleModel",
            "description_width": "",
            "_view_module": "@jupyter-widgets/base",
            "_model_module_version": "1.5.0",
            "_view_count": null,
            "_view_module_version": "1.2.0",
            "_model_module": "@jupyter-widgets/controls"
          }
        },
        "40db5b8fb629433fb84d867fae5cffa0": {
          "model_module": "@jupyter-widgets/base",
          "model_name": "LayoutModel",
          "state": {
            "_view_name": "LayoutView",
            "grid_template_rows": null,
            "right": null,
            "justify_content": null,
            "_view_module": "@jupyter-widgets/base",
            "overflow": null,
            "_model_module_version": "1.2.0",
            "_view_count": null,
            "flex_flow": null,
            "width": null,
            "min_width": null,
            "border": null,
            "align_items": null,
            "bottom": null,
            "_model_module": "@jupyter-widgets/base",
            "top": null,
            "grid_column": null,
            "overflow_y": null,
            "overflow_x": null,
            "grid_auto_flow": null,
            "grid_area": null,
            "grid_template_columns": null,
            "flex": null,
            "_model_name": "LayoutModel",
            "justify_items": null,
            "grid_row": null,
            "max_height": null,
            "align_content": null,
            "visibility": null,
            "align_self": null,
            "height": null,
            "min_height": null,
            "padding": null,
            "grid_auto_rows": null,
            "grid_gap": null,
            "max_width": null,
            "order": null,
            "_view_module_version": "1.2.0",
            "grid_template_areas": null,
            "object_position": null,
            "object_fit": null,
            "grid_auto_columns": null,
            "margin": null,
            "display": null,
            "left": null
          }
        },
        "ab0d353c9c3245898b1311df6031d40f": {
          "model_module": "@jupyter-widgets/controls",
          "model_name": "HBoxModel",
          "state": {
            "_view_name": "HBoxView",
            "_dom_classes": [],
            "_model_name": "HBoxModel",
            "_view_module": "@jupyter-widgets/controls",
            "_model_module_version": "1.5.0",
            "_view_count": null,
            "_view_module_version": "1.5.0",
            "box_style": "",
            "layout": "IPY_MODEL_d2914f3dfd79439a951d2567c12b2cfc",
            "_model_module": "@jupyter-widgets/controls",
            "children": [
              "IPY_MODEL_9f629f59d7f14dafb9585e40364733a0",
              "IPY_MODEL_49aa9a5022c842ce92e3e892523713fa"
            ]
          }
        },
        "d2914f3dfd79439a951d2567c12b2cfc": {
          "model_module": "@jupyter-widgets/base",
          "model_name": "LayoutModel",
          "state": {
            "_view_name": "LayoutView",
            "grid_template_rows": null,
            "right": null,
            "justify_content": null,
            "_view_module": "@jupyter-widgets/base",
            "overflow": null,
            "_model_module_version": "1.2.0",
            "_view_count": null,
            "flex_flow": null,
            "width": null,
            "min_width": null,
            "border": null,
            "align_items": null,
            "bottom": null,
            "_model_module": "@jupyter-widgets/base",
            "top": null,
            "grid_column": null,
            "overflow_y": null,
            "overflow_x": null,
            "grid_auto_flow": null,
            "grid_area": null,
            "grid_template_columns": null,
            "flex": null,
            "_model_name": "LayoutModel",
            "justify_items": null,
            "grid_row": null,
            "max_height": null,
            "align_content": null,
            "visibility": null,
            "align_self": null,
            "height": null,
            "min_height": null,
            "padding": null,
            "grid_auto_rows": null,
            "grid_gap": null,
            "max_width": null,
            "order": null,
            "_view_module_version": "1.2.0",
            "grid_template_areas": null,
            "object_position": null,
            "object_fit": null,
            "grid_auto_columns": null,
            "margin": null,
            "display": null,
            "left": null
          }
        },
        "9f629f59d7f14dafb9585e40364733a0": {
          "model_module": "@jupyter-widgets/controls",
          "model_name": "FloatProgressModel",
          "state": {
            "_view_name": "ProgressView",
            "style": "IPY_MODEL_5dfaa0034b66448ab1a6ed2d2e725766",
            "_dom_classes": [],
            "description": "100%",
            "_model_name": "FloatProgressModel",
            "bar_style": "success",
            "max": 50,
            "_view_module": "@jupyter-widgets/controls",
            "_model_module_version": "1.5.0",
            "value": 50,
            "_view_count": null,
            "_view_module_version": "1.5.0",
            "orientation": "horizontal",
            "min": 0,
            "description_tooltip": null,
            "_model_module": "@jupyter-widgets/controls",
            "layout": "IPY_MODEL_95ad88ee8ada4aeb93567fc848e70a4e"
          }
        },
        "49aa9a5022c842ce92e3e892523713fa": {
          "model_module": "@jupyter-widgets/controls",
          "model_name": "HTMLModel",
          "state": {
            "_view_name": "HTMLView",
            "style": "IPY_MODEL_cb83c7b0e60648ddb7c83ec9f2d6f3ef",
            "_dom_classes": [],
            "description": "",
            "_model_name": "HTMLModel",
            "placeholder": "​",
            "_view_module": "@jupyter-widgets/controls",
            "_model_module_version": "1.5.0",
            "value": " 50/50 [15:19&lt;00:00, 18.40s/it]",
            "_view_count": null,
            "_view_module_version": "1.5.0",
            "description_tooltip": null,
            "_model_module": "@jupyter-widgets/controls",
            "layout": "IPY_MODEL_c4dcbd0fdee54969beb6d4a09d5fefbb"
          }
        },
        "5dfaa0034b66448ab1a6ed2d2e725766": {
          "model_module": "@jupyter-widgets/controls",
          "model_name": "ProgressStyleModel",
          "state": {
            "_view_name": "StyleView",
            "_model_name": "ProgressStyleModel",
            "description_width": "initial",
            "_view_module": "@jupyter-widgets/base",
            "_model_module_version": "1.5.0",
            "_view_count": null,
            "_view_module_version": "1.2.0",
            "bar_color": null,
            "_model_module": "@jupyter-widgets/controls"
          }
        },
        "95ad88ee8ada4aeb93567fc848e70a4e": {
          "model_module": "@jupyter-widgets/base",
          "model_name": "LayoutModel",
          "state": {
            "_view_name": "LayoutView",
            "grid_template_rows": null,
            "right": null,
            "justify_content": null,
            "_view_module": "@jupyter-widgets/base",
            "overflow": null,
            "_model_module_version": "1.2.0",
            "_view_count": null,
            "flex_flow": null,
            "width": null,
            "min_width": null,
            "border": null,
            "align_items": null,
            "bottom": null,
            "_model_module": "@jupyter-widgets/base",
            "top": null,
            "grid_column": null,
            "overflow_y": null,
            "overflow_x": null,
            "grid_auto_flow": null,
            "grid_area": null,
            "grid_template_columns": null,
            "flex": null,
            "_model_name": "LayoutModel",
            "justify_items": null,
            "grid_row": null,
            "max_height": null,
            "align_content": null,
            "visibility": null,
            "align_self": null,
            "height": null,
            "min_height": null,
            "padding": null,
            "grid_auto_rows": null,
            "grid_gap": null,
            "max_width": null,
            "order": null,
            "_view_module_version": "1.2.0",
            "grid_template_areas": null,
            "object_position": null,
            "object_fit": null,
            "grid_auto_columns": null,
            "margin": null,
            "display": null,
            "left": null
          }
        },
        "cb83c7b0e60648ddb7c83ec9f2d6f3ef": {
          "model_module": "@jupyter-widgets/controls",
          "model_name": "DescriptionStyleModel",
          "state": {
            "_view_name": "StyleView",
            "_model_name": "DescriptionStyleModel",
            "description_width": "",
            "_view_module": "@jupyter-widgets/base",
            "_model_module_version": "1.5.0",
            "_view_count": null,
            "_view_module_version": "1.2.0",
            "_model_module": "@jupyter-widgets/controls"
          }
        },
        "c4dcbd0fdee54969beb6d4a09d5fefbb": {
          "model_module": "@jupyter-widgets/base",
          "model_name": "LayoutModel",
          "state": {
            "_view_name": "LayoutView",
            "grid_template_rows": null,
            "right": null,
            "justify_content": null,
            "_view_module": "@jupyter-widgets/base",
            "overflow": null,
            "_model_module_version": "1.2.0",
            "_view_count": null,
            "flex_flow": null,
            "width": null,
            "min_width": null,
            "border": null,
            "align_items": null,
            "bottom": null,
            "_model_module": "@jupyter-widgets/base",
            "top": null,
            "grid_column": null,
            "overflow_y": null,
            "overflow_x": null,
            "grid_auto_flow": null,
            "grid_area": null,
            "grid_template_columns": null,
            "flex": null,
            "_model_name": "LayoutModel",
            "justify_items": null,
            "grid_row": null,
            "max_height": null,
            "align_content": null,
            "visibility": null,
            "align_self": null,
            "height": null,
            "min_height": null,
            "padding": null,
            "grid_auto_rows": null,
            "grid_gap": null,
            "max_width": null,
            "order": null,
            "_view_module_version": "1.2.0",
            "grid_template_areas": null,
            "object_position": null,
            "object_fit": null,
            "grid_auto_columns": null,
            "margin": null,
            "display": null,
            "left": null
          }
        },
        "de317e9b0ceb453d89cfb1781aa12e4b": {
          "model_module": "@jupyter-widgets/controls",
          "model_name": "HBoxModel",
          "state": {
            "_view_name": "HBoxView",
            "_dom_classes": [],
            "_model_name": "HBoxModel",
            "_view_module": "@jupyter-widgets/controls",
            "_model_module_version": "1.5.0",
            "_view_count": null,
            "_view_module_version": "1.5.0",
            "box_style": "",
            "layout": "IPY_MODEL_ddbaacafdf124c39bc2a14405f7e8215",
            "_model_module": "@jupyter-widgets/controls",
            "children": [
              "IPY_MODEL_74f1a63200ff4a1f8f3e3c54ef7ed138",
              "IPY_MODEL_c1b859ea440c4065ace7391c129484f5"
            ]
          }
        },
        "ddbaacafdf124c39bc2a14405f7e8215": {
          "model_module": "@jupyter-widgets/base",
          "model_name": "LayoutModel",
          "state": {
            "_view_name": "LayoutView",
            "grid_template_rows": null,
            "right": null,
            "justify_content": null,
            "_view_module": "@jupyter-widgets/base",
            "overflow": null,
            "_model_module_version": "1.2.0",
            "_view_count": null,
            "flex_flow": null,
            "width": null,
            "min_width": null,
            "border": null,
            "align_items": null,
            "bottom": null,
            "_model_module": "@jupyter-widgets/base",
            "top": null,
            "grid_column": null,
            "overflow_y": null,
            "overflow_x": null,
            "grid_auto_flow": null,
            "grid_area": null,
            "grid_template_columns": null,
            "flex": null,
            "_model_name": "LayoutModel",
            "justify_items": null,
            "grid_row": null,
            "max_height": null,
            "align_content": null,
            "visibility": null,
            "align_self": null,
            "height": null,
            "min_height": null,
            "padding": null,
            "grid_auto_rows": null,
            "grid_gap": null,
            "max_width": null,
            "order": null,
            "_view_module_version": "1.2.0",
            "grid_template_areas": null,
            "object_position": null,
            "object_fit": null,
            "grid_auto_columns": null,
            "margin": null,
            "display": null,
            "left": null
          }
        },
        "74f1a63200ff4a1f8f3e3c54ef7ed138": {
          "model_module": "@jupyter-widgets/controls",
          "model_name": "FloatProgressModel",
          "state": {
            "_view_name": "ProgressView",
            "style": "IPY_MODEL_84b1d9c5961b4f0d9618b74a1c8daf4c",
            "_dom_classes": [],
            "description": "100%",
            "_model_name": "FloatProgressModel",
            "bar_style": "success",
            "max": 50,
            "_view_module": "@jupyter-widgets/controls",
            "_model_module_version": "1.5.0",
            "value": 50,
            "_view_count": null,
            "_view_module_version": "1.5.0",
            "orientation": "horizontal",
            "min": 0,
            "description_tooltip": null,
            "_model_module": "@jupyter-widgets/controls",
            "layout": "IPY_MODEL_5aaa95acf762429cb05c0d47b6de581d"
          }
        },
        "c1b859ea440c4065ace7391c129484f5": {
          "model_module": "@jupyter-widgets/controls",
          "model_name": "HTMLModel",
          "state": {
            "_view_name": "HTMLView",
            "style": "IPY_MODEL_a1d55989d95d4f9995634db5fa509972",
            "_dom_classes": [],
            "description": "",
            "_model_name": "HTMLModel",
            "placeholder": "​",
            "_view_module": "@jupyter-widgets/controls",
            "_model_module_version": "1.5.0",
            "value": " 50/50 [10:19&lt;00:00, 12.39s/it]",
            "_view_count": null,
            "_view_module_version": "1.5.0",
            "description_tooltip": null,
            "_model_module": "@jupyter-widgets/controls",
            "layout": "IPY_MODEL_d8833ef1d67e41cc88ab04d226bef4d8"
          }
        },
        "84b1d9c5961b4f0d9618b74a1c8daf4c": {
          "model_module": "@jupyter-widgets/controls",
          "model_name": "ProgressStyleModel",
          "state": {
            "_view_name": "StyleView",
            "_model_name": "ProgressStyleModel",
            "description_width": "initial",
            "_view_module": "@jupyter-widgets/base",
            "_model_module_version": "1.5.0",
            "_view_count": null,
            "_view_module_version": "1.2.0",
            "bar_color": null,
            "_model_module": "@jupyter-widgets/controls"
          }
        },
        "5aaa95acf762429cb05c0d47b6de581d": {
          "model_module": "@jupyter-widgets/base",
          "model_name": "LayoutModel",
          "state": {
            "_view_name": "LayoutView",
            "grid_template_rows": null,
            "right": null,
            "justify_content": null,
            "_view_module": "@jupyter-widgets/base",
            "overflow": null,
            "_model_module_version": "1.2.0",
            "_view_count": null,
            "flex_flow": null,
            "width": null,
            "min_width": null,
            "border": null,
            "align_items": null,
            "bottom": null,
            "_model_module": "@jupyter-widgets/base",
            "top": null,
            "grid_column": null,
            "overflow_y": null,
            "overflow_x": null,
            "grid_auto_flow": null,
            "grid_area": null,
            "grid_template_columns": null,
            "flex": null,
            "_model_name": "LayoutModel",
            "justify_items": null,
            "grid_row": null,
            "max_height": null,
            "align_content": null,
            "visibility": null,
            "align_self": null,
            "height": null,
            "min_height": null,
            "padding": null,
            "grid_auto_rows": null,
            "grid_gap": null,
            "max_width": null,
            "order": null,
            "_view_module_version": "1.2.0",
            "grid_template_areas": null,
            "object_position": null,
            "object_fit": null,
            "grid_auto_columns": null,
            "margin": null,
            "display": null,
            "left": null
          }
        },
        "a1d55989d95d4f9995634db5fa509972": {
          "model_module": "@jupyter-widgets/controls",
          "model_name": "DescriptionStyleModel",
          "state": {
            "_view_name": "StyleView",
            "_model_name": "DescriptionStyleModel",
            "description_width": "",
            "_view_module": "@jupyter-widgets/base",
            "_model_module_version": "1.5.0",
            "_view_count": null,
            "_view_module_version": "1.2.0",
            "_model_module": "@jupyter-widgets/controls"
          }
        },
        "d8833ef1d67e41cc88ab04d226bef4d8": {
          "model_module": "@jupyter-widgets/base",
          "model_name": "LayoutModel",
          "state": {
            "_view_name": "LayoutView",
            "grid_template_rows": null,
            "right": null,
            "justify_content": null,
            "_view_module": "@jupyter-widgets/base",
            "overflow": null,
            "_model_module_version": "1.2.0",
            "_view_count": null,
            "flex_flow": null,
            "width": null,
            "min_width": null,
            "border": null,
            "align_items": null,
            "bottom": null,
            "_model_module": "@jupyter-widgets/base",
            "top": null,
            "grid_column": null,
            "overflow_y": null,
            "overflow_x": null,
            "grid_auto_flow": null,
            "grid_area": null,
            "grid_template_columns": null,
            "flex": null,
            "_model_name": "LayoutModel",
            "justify_items": null,
            "grid_row": null,
            "max_height": null,
            "align_content": null,
            "visibility": null,
            "align_self": null,
            "height": null,
            "min_height": null,
            "padding": null,
            "grid_auto_rows": null,
            "grid_gap": null,
            "max_width": null,
            "order": null,
            "_view_module_version": "1.2.0",
            "grid_template_areas": null,
            "object_position": null,
            "object_fit": null,
            "grid_auto_columns": null,
            "margin": null,
            "display": null,
            "left": null
          }
        },
        "025d16b6dd7942b3af97457b0a2444fe": {
          "model_module": "@jupyter-widgets/controls",
          "model_name": "HBoxModel",
          "state": {
            "_view_name": "HBoxView",
            "_dom_classes": [],
            "_model_name": "HBoxModel",
            "_view_module": "@jupyter-widgets/controls",
            "_model_module_version": "1.5.0",
            "_view_count": null,
            "_view_module_version": "1.5.0",
            "box_style": "",
            "layout": "IPY_MODEL_e0961e37855d4a24aa53f0eb92c8ca6c",
            "_model_module": "@jupyter-widgets/controls",
            "children": [
              "IPY_MODEL_80faa9768c8e4b6caac8ba1f2837a594",
              "IPY_MODEL_adaf54b8ba6a45df8ba9e857b447f92a"
            ]
          }
        },
        "e0961e37855d4a24aa53f0eb92c8ca6c": {
          "model_module": "@jupyter-widgets/base",
          "model_name": "LayoutModel",
          "state": {
            "_view_name": "LayoutView",
            "grid_template_rows": null,
            "right": null,
            "justify_content": null,
            "_view_module": "@jupyter-widgets/base",
            "overflow": null,
            "_model_module_version": "1.2.0",
            "_view_count": null,
            "flex_flow": null,
            "width": null,
            "min_width": null,
            "border": null,
            "align_items": null,
            "bottom": null,
            "_model_module": "@jupyter-widgets/base",
            "top": null,
            "grid_column": null,
            "overflow_y": null,
            "overflow_x": null,
            "grid_auto_flow": null,
            "grid_area": null,
            "grid_template_columns": null,
            "flex": null,
            "_model_name": "LayoutModel",
            "justify_items": null,
            "grid_row": null,
            "max_height": null,
            "align_content": null,
            "visibility": null,
            "align_self": null,
            "height": null,
            "min_height": null,
            "padding": null,
            "grid_auto_rows": null,
            "grid_gap": null,
            "max_width": null,
            "order": null,
            "_view_module_version": "1.2.0",
            "grid_template_areas": null,
            "object_position": null,
            "object_fit": null,
            "grid_auto_columns": null,
            "margin": null,
            "display": null,
            "left": null
          }
        },
        "80faa9768c8e4b6caac8ba1f2837a594": {
          "model_module": "@jupyter-widgets/controls",
          "model_name": "FloatProgressModel",
          "state": {
            "_view_name": "ProgressView",
            "style": "IPY_MODEL_ca684ce3e4724714adf9cc0cf0a4bbe3",
            "_dom_classes": [],
            "description": "100%",
            "_model_name": "FloatProgressModel",
            "bar_style": "success",
            "max": 50,
            "_view_module": "@jupyter-widgets/controls",
            "_model_module_version": "1.5.0",
            "value": 50,
            "_view_count": null,
            "_view_module_version": "1.5.0",
            "orientation": "horizontal",
            "min": 0,
            "description_tooltip": null,
            "_model_module": "@jupyter-widgets/controls",
            "layout": "IPY_MODEL_68b0d732143c41f081e93035ede67c66"
          }
        },
        "adaf54b8ba6a45df8ba9e857b447f92a": {
          "model_module": "@jupyter-widgets/controls",
          "model_name": "HTMLModel",
          "state": {
            "_view_name": "HTMLView",
            "style": "IPY_MODEL_9f653689fbe84112845b49b4539b9db6",
            "_dom_classes": [],
            "description": "",
            "_model_name": "HTMLModel",
            "placeholder": "​",
            "_view_module": "@jupyter-widgets/controls",
            "_model_module_version": "1.5.0",
            "value": " 50/50 [05:19&lt;00:00,  6.38s/it]",
            "_view_count": null,
            "_view_module_version": "1.5.0",
            "description_tooltip": null,
            "_model_module": "@jupyter-widgets/controls",
            "layout": "IPY_MODEL_ed02b8829f644214b812b6b215a73e6d"
          }
        },
        "ca684ce3e4724714adf9cc0cf0a4bbe3": {
          "model_module": "@jupyter-widgets/controls",
          "model_name": "ProgressStyleModel",
          "state": {
            "_view_name": "StyleView",
            "_model_name": "ProgressStyleModel",
            "description_width": "initial",
            "_view_module": "@jupyter-widgets/base",
            "_model_module_version": "1.5.0",
            "_view_count": null,
            "_view_module_version": "1.2.0",
            "bar_color": null,
            "_model_module": "@jupyter-widgets/controls"
          }
        },
        "68b0d732143c41f081e93035ede67c66": {
          "model_module": "@jupyter-widgets/base",
          "model_name": "LayoutModel",
          "state": {
            "_view_name": "LayoutView",
            "grid_template_rows": null,
            "right": null,
            "justify_content": null,
            "_view_module": "@jupyter-widgets/base",
            "overflow": null,
            "_model_module_version": "1.2.0",
            "_view_count": null,
            "flex_flow": null,
            "width": null,
            "min_width": null,
            "border": null,
            "align_items": null,
            "bottom": null,
            "_model_module": "@jupyter-widgets/base",
            "top": null,
            "grid_column": null,
            "overflow_y": null,
            "overflow_x": null,
            "grid_auto_flow": null,
            "grid_area": null,
            "grid_template_columns": null,
            "flex": null,
            "_model_name": "LayoutModel",
            "justify_items": null,
            "grid_row": null,
            "max_height": null,
            "align_content": null,
            "visibility": null,
            "align_self": null,
            "height": null,
            "min_height": null,
            "padding": null,
            "grid_auto_rows": null,
            "grid_gap": null,
            "max_width": null,
            "order": null,
            "_view_module_version": "1.2.0",
            "grid_template_areas": null,
            "object_position": null,
            "object_fit": null,
            "grid_auto_columns": null,
            "margin": null,
            "display": null,
            "left": null
          }
        },
        "9f653689fbe84112845b49b4539b9db6": {
          "model_module": "@jupyter-widgets/controls",
          "model_name": "DescriptionStyleModel",
          "state": {
            "_view_name": "StyleView",
            "_model_name": "DescriptionStyleModel",
            "description_width": "",
            "_view_module": "@jupyter-widgets/base",
            "_model_module_version": "1.5.0",
            "_view_count": null,
            "_view_module_version": "1.2.0",
            "_model_module": "@jupyter-widgets/controls"
          }
        },
        "ed02b8829f644214b812b6b215a73e6d": {
          "model_module": "@jupyter-widgets/base",
          "model_name": "LayoutModel",
          "state": {
            "_view_name": "LayoutView",
            "grid_template_rows": null,
            "right": null,
            "justify_content": null,
            "_view_module": "@jupyter-widgets/base",
            "overflow": null,
            "_model_module_version": "1.2.0",
            "_view_count": null,
            "flex_flow": null,
            "width": null,
            "min_width": null,
            "border": null,
            "align_items": null,
            "bottom": null,
            "_model_module": "@jupyter-widgets/base",
            "top": null,
            "grid_column": null,
            "overflow_y": null,
            "overflow_x": null,
            "grid_auto_flow": null,
            "grid_area": null,
            "grid_template_columns": null,
            "flex": null,
            "_model_name": "LayoutModel",
            "justify_items": null,
            "grid_row": null,
            "max_height": null,
            "align_content": null,
            "visibility": null,
            "align_self": null,
            "height": null,
            "min_height": null,
            "padding": null,
            "grid_auto_rows": null,
            "grid_gap": null,
            "max_width": null,
            "order": null,
            "_view_module_version": "1.2.0",
            "grid_template_areas": null,
            "object_position": null,
            "object_fit": null,
            "grid_auto_columns": null,
            "margin": null,
            "display": null,
            "left": null
          }
        },
        "86cc7b488b9c4e7ab691e019a6932c36": {
          "model_module": "@jupyter-widgets/controls",
          "model_name": "HBoxModel",
          "state": {
            "_view_name": "HBoxView",
            "_dom_classes": [],
            "_model_name": "HBoxModel",
            "_view_module": "@jupyter-widgets/controls",
            "_model_module_version": "1.5.0",
            "_view_count": null,
            "_view_module_version": "1.5.0",
            "box_style": "",
            "layout": "IPY_MODEL_e68d815abb654ec18f2052b5819e9b6e",
            "_model_module": "@jupyter-widgets/controls",
            "children": [
              "IPY_MODEL_8581ec54c3c940268c8fbdd206b4db50",
              "IPY_MODEL_9c536492257940d5932a0ce9487e053d"
            ]
          }
        },
        "e68d815abb654ec18f2052b5819e9b6e": {
          "model_module": "@jupyter-widgets/base",
          "model_name": "LayoutModel",
          "state": {
            "_view_name": "LayoutView",
            "grid_template_rows": null,
            "right": null,
            "justify_content": null,
            "_view_module": "@jupyter-widgets/base",
            "overflow": null,
            "_model_module_version": "1.2.0",
            "_view_count": null,
            "flex_flow": null,
            "width": null,
            "min_width": null,
            "border": null,
            "align_items": null,
            "bottom": null,
            "_model_module": "@jupyter-widgets/base",
            "top": null,
            "grid_column": null,
            "overflow_y": null,
            "overflow_x": null,
            "grid_auto_flow": null,
            "grid_area": null,
            "grid_template_columns": null,
            "flex": null,
            "_model_name": "LayoutModel",
            "justify_items": null,
            "grid_row": null,
            "max_height": null,
            "align_content": null,
            "visibility": null,
            "align_self": null,
            "height": null,
            "min_height": null,
            "padding": null,
            "grid_auto_rows": null,
            "grid_gap": null,
            "max_width": null,
            "order": null,
            "_view_module_version": "1.2.0",
            "grid_template_areas": null,
            "object_position": null,
            "object_fit": null,
            "grid_auto_columns": null,
            "margin": null,
            "display": null,
            "left": null
          }
        },
        "8581ec54c3c940268c8fbdd206b4db50": {
          "model_module": "@jupyter-widgets/controls",
          "model_name": "FloatProgressModel",
          "state": {
            "_view_name": "ProgressView",
            "style": "IPY_MODEL_ed7bb1e86b224930af975e835b960543",
            "_dom_classes": [],
            "description": "100%",
            "_model_name": "FloatProgressModel",
            "bar_style": "success",
            "max": 50,
            "_view_module": "@jupyter-widgets/controls",
            "_model_module_version": "1.5.0",
            "value": 50,
            "_view_count": null,
            "_view_module_version": "1.5.0",
            "orientation": "horizontal",
            "min": 0,
            "description_tooltip": null,
            "_model_module": "@jupyter-widgets/controls",
            "layout": "IPY_MODEL_3f5cc8e5d61c4d00b3d575f4da555842"
          }
        },
        "9c536492257940d5932a0ce9487e053d": {
          "model_module": "@jupyter-widgets/controls",
          "model_name": "HTMLModel",
          "state": {
            "_view_name": "HTMLView",
            "style": "IPY_MODEL_73879798e1d641c5b22d33572d42f798",
            "_dom_classes": [],
            "description": "",
            "_model_name": "HTMLModel",
            "placeholder": "​",
            "_view_module": "@jupyter-widgets/controls",
            "_model_module_version": "1.5.0",
            "value": " 50/50 [06:45&lt;00:00,  8.11s/it]",
            "_view_count": null,
            "_view_module_version": "1.5.0",
            "description_tooltip": null,
            "_model_module": "@jupyter-widgets/controls",
            "layout": "IPY_MODEL_84bd678aab24485a98c672537585f9bb"
          }
        },
        "ed7bb1e86b224930af975e835b960543": {
          "model_module": "@jupyter-widgets/controls",
          "model_name": "ProgressStyleModel",
          "state": {
            "_view_name": "StyleView",
            "_model_name": "ProgressStyleModel",
            "description_width": "initial",
            "_view_module": "@jupyter-widgets/base",
            "_model_module_version": "1.5.0",
            "_view_count": null,
            "_view_module_version": "1.2.0",
            "bar_color": null,
            "_model_module": "@jupyter-widgets/controls"
          }
        },
        "3f5cc8e5d61c4d00b3d575f4da555842": {
          "model_module": "@jupyter-widgets/base",
          "model_name": "LayoutModel",
          "state": {
            "_view_name": "LayoutView",
            "grid_template_rows": null,
            "right": null,
            "justify_content": null,
            "_view_module": "@jupyter-widgets/base",
            "overflow": null,
            "_model_module_version": "1.2.0",
            "_view_count": null,
            "flex_flow": null,
            "width": null,
            "min_width": null,
            "border": null,
            "align_items": null,
            "bottom": null,
            "_model_module": "@jupyter-widgets/base",
            "top": null,
            "grid_column": null,
            "overflow_y": null,
            "overflow_x": null,
            "grid_auto_flow": null,
            "grid_area": null,
            "grid_template_columns": null,
            "flex": null,
            "_model_name": "LayoutModel",
            "justify_items": null,
            "grid_row": null,
            "max_height": null,
            "align_content": null,
            "visibility": null,
            "align_self": null,
            "height": null,
            "min_height": null,
            "padding": null,
            "grid_auto_rows": null,
            "grid_gap": null,
            "max_width": null,
            "order": null,
            "_view_module_version": "1.2.0",
            "grid_template_areas": null,
            "object_position": null,
            "object_fit": null,
            "grid_auto_columns": null,
            "margin": null,
            "display": null,
            "left": null
          }
        },
        "73879798e1d641c5b22d33572d42f798": {
          "model_module": "@jupyter-widgets/controls",
          "model_name": "DescriptionStyleModel",
          "state": {
            "_view_name": "StyleView",
            "_model_name": "DescriptionStyleModel",
            "description_width": "",
            "_view_module": "@jupyter-widgets/base",
            "_model_module_version": "1.5.0",
            "_view_count": null,
            "_view_module_version": "1.2.0",
            "_model_module": "@jupyter-widgets/controls"
          }
        },
        "84bd678aab24485a98c672537585f9bb": {
          "model_module": "@jupyter-widgets/base",
          "model_name": "LayoutModel",
          "state": {
            "_view_name": "LayoutView",
            "grid_template_rows": null,
            "right": null,
            "justify_content": null,
            "_view_module": "@jupyter-widgets/base",
            "overflow": null,
            "_model_module_version": "1.2.0",
            "_view_count": null,
            "flex_flow": null,
            "width": null,
            "min_width": null,
            "border": null,
            "align_items": null,
            "bottom": null,
            "_model_module": "@jupyter-widgets/base",
            "top": null,
            "grid_column": null,
            "overflow_y": null,
            "overflow_x": null,
            "grid_auto_flow": null,
            "grid_area": null,
            "grid_template_columns": null,
            "flex": null,
            "_model_name": "LayoutModel",
            "justify_items": null,
            "grid_row": null,
            "max_height": null,
            "align_content": null,
            "visibility": null,
            "align_self": null,
            "height": null,
            "min_height": null,
            "padding": null,
            "grid_auto_rows": null,
            "grid_gap": null,
            "max_width": null,
            "order": null,
            "_view_module_version": "1.2.0",
            "grid_template_areas": null,
            "object_position": null,
            "object_fit": null,
            "grid_auto_columns": null,
            "margin": null,
            "display": null,
            "left": null
          }
        }
      }
    }
  },
  "cells": [
    {
      "cell_type": "markdown",
      "metadata": {
        "id": "EeDYnHSHnaXe"
      },
      "source": [
        "# Libraries"
      ]
    },
    {
      "cell_type": "code",
      "metadata": {
        "colab": {
          "base_uri": "https://localhost:8080/"
        },
        "id": "Ml64V4WE_Qvt",
        "outputId": "f2473d6d-dfab-4f47-e7d0-602c3844f00c"
      },
      "source": [
        "import torch\n",
        "import torch.nn.functional as F\n",
        "import torch.nn as nn\n",
        "import torch.optim as optim\n",
        "import torchvision\n",
        "from torchvision import transforms, datasets\n",
        "import numpy as np\n",
        "\n",
        "%matplotlib inline\n",
        "import matplotlib.pyplot as plt\n",
        "from time import time\n",
        "from tqdm.notebook import tqdm\n",
        "\n",
        "torch.set_printoptions(linewidth=120)\n",
        "torch.set_grad_enabled(True)"
      ],
      "execution_count": 75,
      "outputs": [
        {
          "output_type": "execute_result",
          "data": {
            "text/plain": [
              "<torch.autograd.grad_mode.set_grad_enabled at 0x7f17c2f9bd90>"
            ]
          },
          "metadata": {
            "tags": []
          },
          "execution_count": 75
        }
      ]
    },
    {
      "cell_type": "markdown",
      "metadata": {
        "id": "oLt0mXnAnewd"
      },
      "source": [
        "# LeNet model"
      ]
    },
    {
      "cell_type": "code",
      "metadata": {
        "id": "cLLMLBGv_QwI"
      },
      "source": [
        "class LeNet(nn.Module):\n",
        "    def __init__(self):\n",
        "        super(LeNet, self).__init__()\n",
        "        \n",
        "        self.conv1 = nn.Conv2d(1,6,kernel_size=5) #1 channel image input and 6 channel image as output using 5x5 kernel   \n",
        "        self.pool1 = nn.MaxPool2d(kernel_size=2,stride=2)\n",
        "        self.conv2 = nn.Conv2d(6,16,kernel_size=5)\n",
        "        self.pool2 = nn.MaxPool2d(kernel_size=2,stride=2)\n",
        "        self.fc1 = nn.Linear(400,120)\n",
        "        self.fc2 = nn.Linear(120,84)\n",
        "        self.fc3 = nn.Linear(84,10)\n",
        "        \n",
        "    def forward(self,x):\n",
        "        x = F.relu(self.conv1(x))\n",
        "        x = self.pool1(x)\n",
        "        x = F.relu(self.conv2(x))\n",
        "        x = self.pool2(x)\n",
        "        x = x.view(-1,400)\n",
        "        x = F.relu(self.fc1(x))\n",
        "        x = F.relu(self.fc2(x))\n",
        "        x = F.softmax(self.fc3(x),dim=1)\n",
        "        return x\n",
        "        "
      ],
      "execution_count": 2,
      "outputs": []
    },
    {
      "cell_type": "code",
      "metadata": {
        "colab": {
          "base_uri": "https://localhost:8080/"
        },
        "id": "eBFCx3n6It5c",
        "outputId": "39cc28df-1ef7-41d6-9cf3-22a088dac27a"
      },
      "source": [
        "from google.colab import drive\r\n",
        "drive.mount('/content/gdrive')"
      ],
      "execution_count": 4,
      "outputs": [
        {
          "output_type": "stream",
          "text": [
            "Mounted at /content/gdrive\n"
          ],
          "name": "stdout"
        }
      ]
    },
    {
      "cell_type": "code",
      "metadata": {
        "id": "y-4zaoyvQ25j"
      },
      "source": [
        "device = torch.device('cuda:0') if torch.cuda.is_available() else torch.device('cpu')"
      ],
      "execution_count": 5,
      "outputs": []
    },
    {
      "cell_type": "code",
      "metadata": {
        "id": "Ib0-9XCV_QwL"
      },
      "source": [
        "apply_transform = transforms.Compose([transforms.Resize(32), transforms.ToTensor()])\n",
        "\n",
        "train_set = datasets.MNIST(root='/content/gdrive/My Drive/Colab Notebooks/data', train=True, download=False, transform=apply_transform)\n",
        "test_set = datasets.MNIST(root='/content/gdrive/My Drive/Colab Notebooks/data', train=False, download=False, transform=apply_transform)"
      ],
      "execution_count": 6,
      "outputs": []
    },
    {
      "cell_type": "markdown",
      "metadata": {
        "id": "IrwESQjfnrG8"
      },
      "source": [
        "# Train, Test and Plotting function"
      ]
    },
    {
      "cell_type": "code",
      "metadata": {
        "id": "f4q1eThdQuC6"
      },
      "source": [
        "@torch.no_grad()\r\n",
        "def get_num_corrects(preds,labels):\r\n",
        "    return preds.argmax(dim=1).eq(labels).sum().item()"
      ],
      "execution_count": 3,
      "outputs": []
    },
    {
      "cell_type": "code",
      "metadata": {
        "id": "Oh4rVhY8P12S"
      },
      "source": [
        "def train(net, batch_size=256, lr=1e-2, n=50):\r\n",
        "    net.train()\r\n",
        "    optimizer = optim.SGD(net.parameters(), lr=lr, momentum=0.9)\r\n",
        "    train_loss_val = []\r\n",
        "    train_acc_val = []\r\n",
        "    for epoch in tqdm(range(n)):\r\n",
        "        tot_loss = 0\r\n",
        "        tot_correct = 0\r\n",
        "        previous_epoch_timestamp = time()\r\n",
        "\r\n",
        "        for _, data in enumerate(train_loader):\r\n",
        "            inputs, labels = data\r\n",
        "            inputs, labels = inputs.to(device), labels.to(device)\r\n",
        "            \r\n",
        "            preds = net(inputs)\r\n",
        "            loss = F.cross_entropy(preds,labels)\r\n",
        "\r\n",
        "            optimizer.zero_grad(set_to_none=True)\r\n",
        "            loss.backward()\r\n",
        "            optimizer.step()\r\n",
        "\r\n",
        "            tot_loss += loss.item()\r\n",
        "            tot_correct += get_num_corrects(preds,labels)\r\n",
        "        train_loss_val.append(tot_loss/(_+1))\r\n",
        "        train_acc_val.append(tot_correct/len(train_set)*100)\r\n",
        "        if(epoch+1)>(n-6): print(f\"lr:{lr} batch_size:{batch_size} epoch: {epoch+1}/{n}, train loss: {train_loss_val[epoch]:.6f}, train accuracy: {train_acc_val[epoch]:.6f}, \\\r\n",
        "    time Used: {time()-previous_epoch_timestamp:.3f}s\")\r\n",
        "    #return (train_loss_val, train_acc_val)\r\n"
      ],
      "execution_count": 87,
      "outputs": []
    },
    {
      "cell_type": "code",
      "metadata": {
        "id": "3ZaIPweKTZZG"
      },
      "source": [
        "@torch.no_grad()\r\n",
        "def test(net, batch_size=256, lr=1e-2):\r\n",
        "    net.eval()\r\n",
        "    tot_correct = 0\r\n",
        "    tot_loss = 0    \r\n",
        "    for _, data in enumerate(test_loader):\r\n",
        "        inputs, labels = data\r\n",
        "        inputs, labels = inputs.to(device), labels.to(device)\r\n",
        "            \r\n",
        "        preds = net(inputs)\r\n",
        "        loss = F.cross_entropy(preds,labels)\r\n",
        "\r\n",
        "        tot_loss += loss \r\n",
        "        tot_correct += torch.sum(torch.argmax(preds,dim=1)==labels)\r\n",
        "    print(f\"lr:{lr} batch_size:{batch_size} testing accuracy: {tot_correct/len(test_set)*100:.6f}  testing loss: {tot_loss/(_+1):.6f}\")\r\n",
        "    return (tot_loss/(_+1), tot_correct/len(test_set)*100)"
      ],
      "execution_count": 48,
      "outputs": []
    },
    {
      "cell_type": "code",
      "metadata": {
        "id": "VUhLiPzUUv6s"
      },
      "source": [
        "def plots(train_loss, train_accuracy, batch_size=256, lr=1e-2, n=50):\r\n",
        "    fig = plt.figure(figsize=[15,5])\r\n",
        "    fig.suptitle(f'Learning curves with batch_size: {batch_size}, learning_rate: {lr}', fontsize=10)\r\n",
        "    plt.subplot(121)\r\n",
        "    plt.plot(range(n),train_loss,'r-',label='Loss/error') \r\n",
        "    plt.legend(loc='upper right')\r\n",
        "    plt.xlabel('Epochs')\r\n",
        "    plt.ylabel('Training Loss')\r\n",
        "    plt.grid(1)\r\n",
        "    plt.subplot(122)\r\n",
        "    plt.plot(range(n),train_accuracy,'g-',label='Accuracy') \r\n",
        "    plt.legend(loc='upper right')\r\n",
        "    plt.xlabel('Epochs')\r\n",
        "    plt.ylabel('Training Accuracy')\r\n",
        "    plt.grid(1)"
      ],
      "execution_count": 43,
      "outputs": []
    },
    {
      "cell_type": "markdown",
      "metadata": {
        "id": "JvTrj5_amt0Q"
      },
      "source": [
        "# Q5 solution"
      ]
    },
    {
      "cell_type": "code",
      "metadata": {
        "colab": {
          "base_uri": "https://localhost:8080/",
          "height": 554,
          "referenced_widgets": [
            "bdb6cd9d0b134b508dad28a18fe36dfb",
            "508e97e3006c4a4bb4445400031d2c74",
            "1c4b50b3d2b0442ca576126654b7d9d9",
            "fdadb62d0e0a4c4aa2ac70947afce06a",
            "44ee20e888c04981bf578079446685fd",
            "384566ee56594c888ea5f681bcf9c489",
            "f18ed69ee2ee47f3a6c1ea72bfb29633",
            "934d3871c3d140f6aac371be72d9f8da"
          ]
        },
        "id": "rtpAmxk9sDjj",
        "outputId": "d41faee2-7726-4dbb-d16e-74b05600587f"
      },
      "source": [
        "net1 = LeNet().to(device)\r\n",
        "train_loader = torch.utils.data.DataLoader(train_set, batch_size=256, shuffle=True, num_workers=2)\r\n",
        "test_loader = torch.utils.data.DataLoader(test_set, batch_size=256, num_workers=2)\r\n",
        "plots(*train(net1))\r\n",
        "test(net1)"
      ],
      "execution_count": 77,
      "outputs": [
        {
          "output_type": "display_data",
          "data": {
            "application/vnd.jupyter.widget-view+json": {
              "model_id": "bdb6cd9d0b134b508dad28a18fe36dfb",
              "version_minor": 0,
              "version_major": 2
            },
            "text/plain": [
              "HBox(children=(FloatProgress(value=0.0, max=50.0), HTML(value='')))"
            ]
          },
          "metadata": {
            "tags": []
          }
        },
        {
          "output_type": "stream",
          "text": [
            "lr:0.01 batch_size:256 epoch: 45/50, train loss: 1.472206, train accuracy: 98.988333,     time Used: 5.920s\n",
            "lr:0.01 batch_size:256 epoch: 46/50, train loss: 1.472129, train accuracy: 99.000000,     time Used: 5.859s\n",
            "lr:0.01 batch_size:256 epoch: 47/50, train loss: 1.471893, train accuracy: 99.011667,     time Used: 5.860s\n",
            "lr:0.01 batch_size:256 epoch: 48/50, train loss: 1.471339, train accuracy: 99.060000,     time Used: 5.880s\n",
            "lr:0.01 batch_size:256 epoch: 49/50, train loss: 1.471061, train accuracy: 99.100000,     time Used: 5.885s\n",
            "lr:0.01 batch_size:256 epoch: 50/50, train loss: 1.471708, train accuracy: 99.026667,     time Used: 5.889s\n",
            "\n",
            "lr:0.01 batch_size:256 testing accuracy: 98.549995  testing loss: 1.476014\n"
          ],
          "name": "stdout"
        },
        {
          "output_type": "execute_result",
          "data": {
            "text/plain": [
              "(tensor(1.4760, device='cuda:0'), tensor(98.5500, device='cuda:0'))"
            ]
          },
          "metadata": {
            "tags": []
          },
          "execution_count": 77
        },
        {
          "output_type": "display_data",
          "data": {
            "image/png": "[encoded data removed]",
            "text/plain": [
              "<Figure size 1080x360 with 2 Axes>"
            ]
          },
          "metadata": {
            "tags": [],
            "needs_background": "light"
          }
        }
      ]
    },
    {
      "cell_type": "markdown",
      "metadata": {
        "id": "KQDXg2X-m-vC"
      },
      "source": [
        "# Q6.a solution"
      ]
    },
    {
      "cell_type": "code",
      "metadata": {
        "id": "cMYEDND2XCz7"
      },
      "source": [
        "def nets_initialize():\r\n",
        "    net1 = LeNet().to(device)\r\n",
        "    net2 = LeNet().to(device)\r\n",
        "    net3 = LeNet().to(device)\r\n",
        "    net4 = LeNet().to(device)\r\n",
        "    net5 = LeNet().to(device)\r\n",
        "    return (net1,net2,net3,net4,net5)"
      ],
      "execution_count": 79,
      "outputs": []
    },
    {
      "cell_type": "code",
      "metadata": {
        "id": "Uk3MFYFrWV21"
      },
      "source": [
        "lrs = [0.5, 0.2, 0.1, 0.05, 0.025]\r\n",
        "Batches = [128, 256, 512, 1024]"
      ],
      "execution_count": 88,
      "outputs": []
    },
    {
      "cell_type": "code",
      "metadata": {
        "id": "yn548FSxpec3"
      },
      "source": [
        "nets = nets_initialize()\r\n",
        "train_losses = []\r\n",
        "test_losses = []"
      ],
      "execution_count": 82,
      "outputs": []
    },
    {
      "cell_type": "code",
      "metadata": {
        "colab": {
          "base_uri": "https://localhost:8080/",
          "height": 682,
          "referenced_widgets": [
            "934f951cf9ae4af791840397f3bd6b79",
            "266139efe04b44b48d332ea80b0f1b9f",
            "d540b2cd6fde48aebafa74bafdb15de9",
            "dadd3bf1b81b4d359b8912346ed64c75",
            "b1d65b79cae843aea1e588e2a1a87790",
            "ed8dba871ad84d5c9317d9ef2864af91",
            "6af75b2d788848efb92794cd9ad001d4",
            "68565248f6ec424ea01525fb692badb0",
            "1d773c0e693a478ab7c202c385ab2966",
            "04237e8efd324e568dc86da7622d7139",
            "f2ce98f970804e3ba022fe770adcaf2a",
            "6f7d34afcc6b423b8b1f2e8ec0371128",
            "64f6e9ba5705494bb739242e2f4df838",
            "07ba385704b34db3ae852190ff11964a",
            "640f89762f5e4e9aadd29394a1972b7d",
            "e214dbd99d8f4504b2b23e01b159fdc8",
            "011942fd60f04397bf4384455f9a4cee",
            "b1c12a69a8be431296a90850a93c6e57",
            "0013fd4e71eb47ae9300fc773391940e",
            "44c18f00aa5e441087c14c824faf64e4",
            "820c4432ee49467998e204c2da1ebe02",
            "6495a7a26f18458193271e6ab82ff407",
            "376187ce94244df6932a3e7f23f3e833",
            "1a8d6b2095dd40e899bcee58a85af5f2",
            "e24cec0fc8794f7cafd5fc2ae6347c29",
            "385d5fbb45964307a38897cdcc0b9d07",
            "db87f0b476e545c693a68d5426ce124c",
            "821f241a720f419ca3c61dfbe7ff1325",
            "75d6a6fdf61c47e1958b40dce884b4fb",
            "2b21a741e4d240e5a196d00ae9375405",
            "ce00af6d0c3c4d308d29837bc0fba64f",
            "a8b06da9898347d0a190a5c8c2cfae94"
          ]
        },
        "id": "txDya8oiryGB",
        "outputId": "22b55d69-7914-4ec5-9a23-5681111a20e1"
      },
      "source": [
        "for i, Batch in enumerate(Batches):\r\n",
        "    train_loader = torch.utils.data.DataLoader(train_set, batch_size=Batch, shuffle=True, num_workers=4)\r\n",
        "    test_loader = torch.utils.data.DataLoader(test_set, batch_size=Batch, num_workers=4)\r\n",
        "    train_losses.append(train(nets[i], batch_size=Batch)[0])\r\n",
        "    test_losses.append(test(nets[i], batch_size=Batch)[0])"
      ],
      "execution_count": 83,
      "outputs": [
        {
          "output_type": "display_data",
          "data": {
            "application/vnd.jupyter.widget-view+json": {
              "model_id": "934f951cf9ae4af791840397f3bd6b79",
              "version_minor": 0,
              "version_major": 2
            },
            "text/plain": [
              "HBox(children=(FloatProgress(value=0.0, max=50.0), HTML(value='')))"
            ]
          },
          "metadata": {
            "tags": []
          }
        },
        {
          "output_type": "stream",
          "text": [
            "lr:0.01 batch_size:128 epoch: 45/50, train loss: 1.467227, train accuracy: 99.420000,     time Used: 6.577s\n",
            "lr:0.01 batch_size:128 epoch: 46/50, train loss: 1.467021, train accuracy: 99.450000,     time Used: 6.601s\n",
            "lr:0.01 batch_size:128 epoch: 47/50, train loss: 1.467071, train accuracy: 99.460000,     time Used: 6.627s\n",
            "lr:0.01 batch_size:128 epoch: 48/50, train loss: 1.466556, train accuracy: 99.485000,     time Used: 6.704s\n",
            "lr:0.01 batch_size:128 epoch: 49/50, train loss: 1.466593, train accuracy: 99.486667,     time Used: 6.719s\n",
            "lr:0.01 batch_size:128 epoch: 50/50, train loss: 1.466729, train accuracy: 99.478333,     time Used: 6.652s\n",
            "\n",
            "lr:0.01 batch_size:128 testing accuracy: 98.959999  testing loss: 1.471670\n"
          ],
          "name": "stdout"
        },
        {
          "output_type": "display_data",
          "data": {
            "application/vnd.jupyter.widget-view+json": {
              "model_id": "1d773c0e693a478ab7c202c385ab2966",
              "version_minor": 0,
              "version_major": 2
            },
            "text/plain": [
              "HBox(children=(FloatProgress(value=0.0, max=50.0), HTML(value='')))"
            ]
          },
          "metadata": {
            "tags": []
          }
        },
        {
          "output_type": "stream",
          "text": [
            "lr:0.01 batch_size:256 epoch: 45/50, train loss: 1.471683, train accuracy: 99.051667,     time Used: 5.991s\n",
            "lr:0.01 batch_size:256 epoch: 46/50, train loss: 1.471644, train accuracy: 99.028333,     time Used: 6.061s\n",
            "lr:0.01 batch_size:256 epoch: 47/50, train loss: 1.471870, train accuracy: 99.023333,     time Used: 6.009s\n",
            "lr:0.01 batch_size:256 epoch: 48/50, train loss: 1.471416, train accuracy: 99.053333,     time Used: 6.013s\n",
            "lr:0.01 batch_size:256 epoch: 49/50, train loss: 1.471953, train accuracy: 98.985000,     time Used: 5.978s\n",
            "lr:0.01 batch_size:256 epoch: 50/50, train loss: 1.470933, train accuracy: 99.095000,     time Used: 5.961s\n",
            "\n",
            "lr:0.01 batch_size:256 testing accuracy: 98.669998  testing loss: 1.474794\n"
          ],
          "name": "stdout"
        },
        {
          "output_type": "display_data",
          "data": {
            "application/vnd.jupyter.widget-view+json": {
              "model_id": "011942fd60f04397bf4384455f9a4cee",
              "version_minor": 0,
              "version_major": 2
            },
            "text/plain": [
              "HBox(children=(FloatProgress(value=0.0, max=50.0), HTML(value='')))"
            ]
          },
          "metadata": {
            "tags": []
          }
        },
        {
          "output_type": "stream",
          "text": [
            "lr:0.01 batch_size:512 epoch: 45/50, train loss: 1.484828, train accuracy: 97.835000,     time Used: 5.743s\n",
            "lr:0.01 batch_size:512 epoch: 46/50, train loss: 1.485098, train accuracy: 97.790000,     time Used: 5.732s\n",
            "lr:0.01 batch_size:512 epoch: 47/50, train loss: 1.483922, train accuracy: 97.905000,     time Used: 5.692s\n",
            "lr:0.01 batch_size:512 epoch: 48/50, train loss: 1.483376, train accuracy: 97.976667,     time Used: 5.726s\n",
            "lr:0.01 batch_size:512 epoch: 49/50, train loss: 1.482479, train accuracy: 98.063333,     time Used: 5.697s\n",
            "lr:0.01 batch_size:512 epoch: 50/50, train loss: 1.482362, train accuracy: 98.038333,     time Used: 5.749s\n",
            "\n",
            "lr:0.01 batch_size:512 testing accuracy: 97.859993  testing loss: 1.483491\n"
          ],
          "name": "stdout"
        },
        {
          "output_type": "display_data",
          "data": {
            "application/vnd.jupyter.widget-view+json": {
              "model_id": "e24cec0fc8794f7cafd5fc2ae6347c29",
              "version_minor": 0,
              "version_major": 2
            },
            "text/plain": [
              "HBox(children=(FloatProgress(value=0.0, max=50.0), HTML(value='')))"
            ]
          },
          "metadata": {
            "tags": []
          }
        },
        {
          "output_type": "stream",
          "text": [
            "lr:0.01 batch_size:1024 epoch: 45/50, train loss: 1.611713, train accuracy: 85.331667,     time Used: 5.614s\n",
            "lr:0.01 batch_size:1024 epoch: 46/50, train loss: 1.576039, train accuracy: 89.335000,     time Used: 5.597s\n",
            "lr:0.01 batch_size:1024 epoch: 47/50, train loss: 1.542935, train accuracy: 92.635000,     time Used: 5.636s\n",
            "lr:0.01 batch_size:1024 epoch: 48/50, train loss: 1.533781, train accuracy: 93.436667,     time Used: 5.608s\n",
            "lr:0.01 batch_size:1024 epoch: 49/50, train loss: 1.528418, train accuracy: 93.861667,     time Used: 5.578s\n",
            "lr:0.01 batch_size:1024 epoch: 50/50, train loss: 1.523704, train accuracy: 94.218333,     time Used: 5.561s\n",
            "\n",
            "lr:0.01 batch_size:1024 testing accuracy: 94.889999  testing loss: 1.518066\n"
          ],
          "name": "stdout"
        }
      ]
    },
    {
      "cell_type": "code",
      "metadata": {
        "colab": {
          "base_uri": "https://localhost:8080/",
          "height": 370
        },
        "id": "dQbni-hZIQa7",
        "outputId": "5aebaa25-788d-4f45-bf99-bc61ef10101c"
      },
      "source": [
        "fig = plt.figure(figsize=[15,5])\r\n",
        "fig.suptitle(f'Learning curves with different batch_sizes', fontsize=10)\r\n",
        "plt.subplot(121)\r\n",
        "plt.plot(range(50),train_losses[0],'r-',label='Batch:128') \r\n",
        "plt.plot(range(50),train_losses[1],'b-',label='Batch:256') \r\n",
        "plt.plot(range(50),train_losses[2],'c-',label='Batch:512') \r\n",
        "plt.plot(range(50),train_losses[3],'m-',label='Batch:1024') \r\n",
        "plt.legend(loc='upper right')\r\n",
        "plt.xlabel('Epochs')\r\n",
        "plt.ylabel('Training Loss')\r\n",
        "plt.grid(1)\r\n",
        "plt.subplot(122)\r\n",
        "plt.plot(Batches,test_losses,'g-',label='Test Loss', marker='o') \r\n",
        "plt.legend(loc='upper left')\r\n",
        "plt.xlabel('Batch Sizes')\r\n",
        "plt.ylabel('Testing Loss')\r\n",
        "plt.grid(1)"
      ],
      "execution_count": 86,
      "outputs": [
        {
          "output_type": "display_data",
          "data": {
            "image/png": "[encoded data removed]",
            "text/plain": [
              "<Figure size 1080x360 with 2 Axes>"
            ]
          },
          "metadata": {
            "tags": [],
            "needs_background": "light"
          }
        }
      ]
    },
    {
      "cell_type": "markdown",
      "metadata": {
        "id": "syyhORqanIbB"
      },
      "source": [
        "# Q6.b solution"
      ]
    },
    {
      "cell_type": "code",
      "metadata": {
        "id": "t_sMSHBoZx_I"
      },
      "source": [
        "nets = nets_initialize()\r\n",
        "test_losses_lr = []"
      ],
      "execution_count": 89,
      "outputs": []
    },
    {
      "cell_type": "code",
      "metadata": {
        "colab": {
          "base_uri": "https://localhost:8080/",
          "height": 849,
          "referenced_widgets": [
            "9a7d4f833062452980b896252333faec",
            "868e8c75961042bba6e987ece8a9817c",
            "cd898ddf4a554776b0566eb180558ac1",
            "4fa4c07fe99b49b7a9b88ebfd26978a6",
            "0bbd95f6983b4ee4af183557f9863e0d",
            "037d89c8219348888e183cf6fd9c115a",
            "592f470dc69242efadefa8915afc9f0b",
            "f9775f1c63994b60b1f9c2b24426cd61",
            "af494215fbae4035bee3719ad84eed22",
            "6e248075b98345f591b3834389303141",
            "af43d0db42e54b6d8c4cb1603e7652b0",
            "f73e4876f51243a8bfea9bec0b23d529",
            "a075cd6623d94deea70fac7bf3643800",
            "8cd3662e0f6440169132598b00548b5a",
            "834deb904bab4f97b13ef787653af34c",
            "40db5b8fb629433fb84d867fae5cffa0",
            "ab0d353c9c3245898b1311df6031d40f",
            "d2914f3dfd79439a951d2567c12b2cfc",
            "9f629f59d7f14dafb9585e40364733a0",
            "49aa9a5022c842ce92e3e892523713fa",
            "5dfaa0034b66448ab1a6ed2d2e725766",
            "95ad88ee8ada4aeb93567fc848e70a4e",
            "cb83c7b0e60648ddb7c83ec9f2d6f3ef",
            "c4dcbd0fdee54969beb6d4a09d5fefbb",
            "de317e9b0ceb453d89cfb1781aa12e4b",
            "ddbaacafdf124c39bc2a14405f7e8215",
            "74f1a63200ff4a1f8f3e3c54ef7ed138",
            "c1b859ea440c4065ace7391c129484f5",
            "84b1d9c5961b4f0d9618b74a1c8daf4c",
            "5aaa95acf762429cb05c0d47b6de581d",
            "a1d55989d95d4f9995634db5fa509972",
            "d8833ef1d67e41cc88ab04d226bef4d8",
            "025d16b6dd7942b3af97457b0a2444fe",
            "e0961e37855d4a24aa53f0eb92c8ca6c",
            "80faa9768c8e4b6caac8ba1f2837a594",
            "adaf54b8ba6a45df8ba9e857b447f92a",
            "ca684ce3e4724714adf9cc0cf0a4bbe3",
            "68b0d732143c41f081e93035ede67c66",
            "9f653689fbe84112845b49b4539b9db6",
            "ed02b8829f644214b812b6b215a73e6d"
          ]
        },
        "id": "SUeqIjKYawly",
        "outputId": "351a490b-1be1-44e2-91d7-5bd18e2f151f"
      },
      "source": [
        "train_loader = torch.utils.data.DataLoader(train_set, batch_size=256, shuffle=True, num_workers=2)\r\n",
        "test_loader = torch.utils.data.DataLoader(test_set, batch_size=256, num_workers=2)\r\n",
        "for i,lr in enumerate(lrs):\r\n",
        "    train(nets[i], lr=lr)\r\n",
        "    test_losses_lr.append(test(nets[i], lr=lr)[0])"
      ],
      "execution_count": 90,
      "outputs": [
        {
          "output_type": "display_data",
          "data": {
            "application/vnd.jupyter.widget-view+json": {
              "model_id": "9a7d4f833062452980b896252333faec",
              "version_minor": 0,
              "version_major": 2
            },
            "text/plain": [
              "HBox(children=(FloatProgress(value=0.0, max=50.0), HTML(value='')))"
            ]
          },
          "metadata": {
            "tags": []
          }
        },
        {
          "output_type": "stream",
          "text": [
            "lr:0.5 batch_size:256 epoch: 45/50, train loss: 2.362420, train accuracy: 9.871667,     time Used: 5.930s\n",
            "lr:0.5 batch_size:256 epoch: 46/50, train loss: 2.362586, train accuracy: 9.871667,     time Used: 5.991s\n",
            "lr:0.5 batch_size:256 epoch: 47/50, train loss: 2.362475, train accuracy: 9.871667,     time Used: 6.012s\n",
            "lr:0.5 batch_size:256 epoch: 48/50, train loss: 2.362392, train accuracy: 9.871667,     time Used: 6.104s\n",
            "lr:0.5 batch_size:256 epoch: 49/50, train loss: 2.362475, train accuracy: 9.871667,     time Used: 5.962s\n",
            "lr:0.5 batch_size:256 epoch: 50/50, train loss: 2.362475, train accuracy: 9.871667,     time Used: 6.028s\n",
            "\n",
            "lr:0.5 batch_size:256 testing accuracy: 9.800000  testing loss: 2.363983\n"
          ],
          "name": "stdout"
        },
        {
          "output_type": "display_data",
          "data": {
            "application/vnd.jupyter.widget-view+json": {
              "model_id": "af494215fbae4035bee3719ad84eed22",
              "version_minor": 0,
              "version_major": 2
            },
            "text/plain": [
              "HBox(children=(FloatProgress(value=0.0, max=50.0), HTML(value='')))"
            ]
          },
          "metadata": {
            "tags": []
          }
        },
        {
          "output_type": "stream",
          "text": [
            "lr:0.2 batch_size:256 epoch: 45/50, train loss: 2.348889, train accuracy: 11.236667,     time Used: 5.969s\n",
            "lr:0.2 batch_size:256 epoch: 46/50, train loss: 2.348945, train accuracy: 11.236667,     time Used: 5.906s\n",
            "lr:0.2 batch_size:256 epoch: 47/50, train loss: 2.348834, train accuracy: 11.236667,     time Used: 5.966s\n",
            "lr:0.2 batch_size:256 epoch: 48/50, train loss: 2.348806, train accuracy: 11.236667,     time Used: 6.000s\n",
            "lr:0.2 batch_size:256 epoch: 49/50, train loss: 2.348723, train accuracy: 11.236667,     time Used: 6.019s\n",
            "lr:0.2 batch_size:256 epoch: 50/50, train loss: 2.348834, train accuracy: 11.236667,     time Used: 5.984s\n",
            "\n",
            "lr:0.2 batch_size:256 testing accuracy: 11.350000  testing loss: 2.347381\n"
          ],
          "name": "stdout"
        },
        {
          "output_type": "display_data",
          "data": {
            "application/vnd.jupyter.widget-view+json": {
              "model_id": "ab0d353c9c3245898b1311df6031d40f",
              "version_minor": 0,
              "version_major": 2
            },
            "text/plain": [
              "HBox(children=(FloatProgress(value=0.0, max=50.0), HTML(value='')))"
            ]
          },
          "metadata": {
            "tags": []
          }
        },
        {
          "output_type": "stream",
          "text": [
            "lr:0.1 batch_size:256 epoch: 45/50, train loss: 1.467086, train accuracy: 99.401667,     time Used: 6.041s\n",
            "lr:0.1 batch_size:256 epoch: 46/50, train loss: 1.466472, train accuracy: 99.470000,     time Used: 5.942s\n",
            "lr:0.1 batch_size:256 epoch: 47/50, train loss: 1.466598, train accuracy: 99.458333,     time Used: 5.925s\n",
            "lr:0.1 batch_size:256 epoch: 48/50, train loss: 1.466623, train accuracy: 99.461667,     time Used: 5.957s\n",
            "lr:0.1 batch_size:256 epoch: 49/50, train loss: 1.466160, train accuracy: 99.498333,     time Used: 5.928s\n",
            "lr:0.1 batch_size:256 epoch: 50/50, train loss: 1.467190, train accuracy: 99.388333,     time Used: 5.992s\n",
            "\n",
            "lr:0.1 batch_size:256 testing accuracy: 98.959999  testing loss: 1.471484\n"
          ],
          "name": "stdout"
        },
        {
          "output_type": "display_data",
          "data": {
            "application/vnd.jupyter.widget-view+json": {
              "model_id": "de317e9b0ceb453d89cfb1781aa12e4b",
              "version_minor": 0,
              "version_major": 2
            },
            "text/plain": [
              "HBox(children=(FloatProgress(value=0.0, max=50.0), HTML(value='')))"
            ]
          },
          "metadata": {
            "tags": []
          }
        },
        {
          "output_type": "stream",
          "text": [
            "lr:0.05 batch_size:256 epoch: 45/50, train loss: 1.464668, train accuracy: 99.661667,     time Used: 6.020s\n",
            "lr:0.05 batch_size:256 epoch: 46/50, train loss: 1.464699, train accuracy: 99.653333,     time Used: 6.068s\n",
            "lr:0.05 batch_size:256 epoch: 47/50, train loss: 1.464971, train accuracy: 99.640000,     time Used: 5.901s\n",
            "lr:0.05 batch_size:256 epoch: 48/50, train loss: 1.464652, train accuracy: 99.656667,     time Used: 5.958s\n",
            "lr:0.05 batch_size:256 epoch: 49/50, train loss: 1.464522, train accuracy: 99.678333,     time Used: 5.890s\n",
            "lr:0.05 batch_size:256 epoch: 50/50, train loss: 1.464656, train accuracy: 99.650000,     time Used: 6.147s\n",
            "\n",
            "lr:0.05 batch_size:256 testing accuracy: 98.839996  testing loss: 1.472588\n"
          ],
          "name": "stdout"
        },
        {
          "output_type": "display_data",
          "data": {
            "application/vnd.jupyter.widget-view+json": {
              "model_id": "025d16b6dd7942b3af97457b0a2444fe",
              "version_minor": 0,
              "version_major": 2
            },
            "text/plain": [
              "HBox(children=(FloatProgress(value=0.0, max=50.0), HTML(value='')))"
            ]
          },
          "metadata": {
            "tags": []
          }
        },
        {
          "output_type": "stream",
          "text": [
            "lr:0.025 batch_size:256 epoch: 45/50, train loss: 1.466470, train accuracy: 99.498333,     time Used: 6.136s\n",
            "lr:0.025 batch_size:256 epoch: 46/50, train loss: 1.466651, train accuracy: 99.476667,     time Used: 6.212s\n",
            "lr:0.025 batch_size:256 epoch: 47/50, train loss: 1.466375, train accuracy: 99.493333,     time Used: 6.059s\n",
            "lr:0.025 batch_size:256 epoch: 48/50, train loss: 1.465834, train accuracy: 99.556667,     time Used: 6.091s\n",
            "lr:0.025 batch_size:256 epoch: 49/50, train loss: 1.465906, train accuracy: 99.560000,     time Used: 6.140s\n",
            "lr:0.025 batch_size:256 epoch: 50/50, train loss: 1.466053, train accuracy: 99.528333,     time Used: 6.058s\n",
            "\n",
            "lr:0.025 batch_size:256 testing accuracy: 98.909996  testing loss: 1.471910\n"
          ],
          "name": "stdout"
        }
      ]
    },
    {
      "cell_type": "code",
      "metadata": {
        "colab": {
          "base_uri": "https://localhost:8080/",
          "height": 295
        },
        "id": "VjwK3_Rtcn6w",
        "outputId": "94f83253-6a93-4f68-c392-9a5862947c68"
      },
      "source": [
        "plt.plot(lrs,test_losses_lr, 'r-', label='Test Error', marker='o')\r\n",
        "plt.title('Plot of Test Loss Vs Learning Rate')\r\n",
        "plt.xlabel('Learning Rate')\r\n",
        "plt.ylabel('Test Loss')\r\n",
        "plt.legend(loc='upper left')\r\n",
        "plt.grid(1)\r\n",
        "plt.show()"
      ],
      "execution_count": 91,
      "outputs": [
        {
          "output_type": "display_data",
          "data": {
            "image/png": "[encoded data removed]",
            "text/plain": [
              "<Figure size 432x288 with 1 Axes>"
            ]
          },
          "metadata": {
            "tags": [],
            "needs_background": "light"
          }
        }
      ]
    },
    {
      "cell_type": "markdown",
      "metadata": {
        "id": "AD0KqmYwn4SW"
      },
      "source": [
        "**I would prefer learning rate less than 0.1, as we can see a drastic change in test loss with lr > 0.1. Also for optimum test loss with respect to number of epochs: 50, I prefer 0.1 learning rate which has minimum test loss and maximum test accuracy compared to other learning rates less than 0.1 since they reach minimum (of loss function) much slower than 0.1 .**"
      ]
    },
    {
      "cell_type": "markdown",
      "metadata": {
        "id": "TQv_7_wtnOLm"
      },
      "source": [
        "# Q6.c solution"
      ]
    },
    {
      "cell_type": "code",
      "metadata": {
        "colab": {
          "base_uri": "https://localhost:8080/",
          "height": 166,
          "referenced_widgets": [
            "86cc7b488b9c4e7ab691e019a6932c36",
            "e68d815abb654ec18f2052b5819e9b6e",
            "8581ec54c3c940268c8fbdd206b4db50",
            "9c536492257940d5932a0ce9487e053d",
            "ed7bb1e86b224930af975e835b960543",
            "3f5cc8e5d61c4d00b3d575f4da555842",
            "73879798e1d641c5b22d33572d42f798",
            "84bd678aab24485a98c672537585f9bb"
          ]
        },
        "id": "-xcsd1YTeWNf",
        "outputId": "eb558b5b-9dde-4da3-8d0d-f1f3faaba0a1"
      },
      "source": [
        "net1 = LeNet().to(device)\r\n",
        "net1.train()\r\n",
        "lr = 0.2\r\n",
        "n = 50\r\n",
        "optimizer = optim.SGD(net1.parameters(), lr=lr, momentum=0.9)\r\n",
        "train_loss_val = []\r\n",
        "train_acc_val = []\r\n",
        "for epoch in tqdm(range(n)):\r\n",
        "    tot_loss = 0\r\n",
        "    tot_correct = 0\r\n",
        "    previous_epoch_timestamp = time()\r\n",
        "\r\n",
        "    if epoch%4 == 0:\r\n",
        "      if epoch: lr *= 0.6\r\n",
        "    optimizer = optim.SGD(net1.parameters(), lr=lr, momentum=0.9)\r\n",
        "\r\n",
        "    for _, data in enumerate(train_loader):\r\n",
        "        inputs, labels = data\r\n",
        "        inputs, labels = inputs.to(device), labels.to(device)\r\n",
        "        \r\n",
        "        preds = net1(inputs)\r\n",
        "        loss = F.cross_entropy(preds,labels)\r\n",
        "\r\n",
        "        optimizer.zero_grad(set_to_none=True)\r\n",
        "        loss.backward()\r\n",
        "        optimizer.step()\r\n",
        "\r\n",
        "        tot_loss += loss.item()\r\n",
        "        tot_correct += get_num_corrects(preds,labels)\r\n",
        "    train_loss_val.append(tot_loss/(_+1))\r\n",
        "    train_acc_val.append(tot_correct/len(train_set)*100)\r\n",
        "    if(epoch+1)>(n-6): print(f\"lr:{lr} batch_size: 256 epoch: {epoch+1}/{n}, train loss: {train_loss_val[epoch]:.6f}, train accuracy: {train_acc_val[epoch]:.6f}, \\\r\n",
        "    time Used: {time()-previous_epoch_timestamp:.3f}s\")"
      ],
      "execution_count": 96,
      "outputs": [
        {
          "output_type": "display_data",
          "data": {
            "application/vnd.jupyter.widget-view+json": {
              "model_id": "86cc7b488b9c4e7ab691e019a6932c36",
              "version_minor": 0,
              "version_major": 2
            },
            "text/plain": [
              "HBox(children=(FloatProgress(value=0.0, max=50.0), HTML(value='')))"
            ]
          },
          "metadata": {
            "tags": []
          }
        },
        {
          "output_type": "stream",
          "text": [
            "lr:0.0007255941119999997 batch_size: 256 epoch: 45/50, train loss: 1.467386, train accuracy: 99.385000,     time Used: 5.977s\n",
            "lr:0.0007255941119999997 batch_size: 256 epoch: 46/50, train loss: 1.467412, train accuracy: 99.385000,     time Used: 5.962s\n",
            "lr:0.0007255941119999997 batch_size: 256 epoch: 47/50, train loss: 1.467356, train accuracy: 99.385000,     time Used: 6.019s\n",
            "lr:0.0007255941119999997 batch_size: 256 epoch: 48/50, train loss: 1.467382, train accuracy: 99.385000,     time Used: 5.992s\n",
            "lr:0.00043535646719999985 batch_size: 256 epoch: 49/50, train loss: 1.467352, train accuracy: 99.385000,     time Used: 6.092s\n",
            "lr:0.00043535646719999985 batch_size: 256 epoch: 50/50, train loss: 1.467379, train accuracy: 99.385000,     time Used: 6.073s\n",
            "\n"
          ],
          "name": "stdout"
        }
      ]
    },
    {
      "cell_type": "code",
      "metadata": {
        "colab": {
          "base_uri": "https://localhost:8080/"
        },
        "id": "W_q87KetkRye",
        "outputId": "deea5533-64e2-48e1-f807-c1627d8e5c78"
      },
      "source": [
        "net1.eval()\r\n",
        "tot_correct = 0\r\n",
        "tot_loss = 0    \r\n",
        "for _, data in enumerate(test_loader):\r\n",
        "    inputs, labels = data\r\n",
        "    inputs, labels = inputs.to(device), labels.to(device)\r\n",
        "        \r\n",
        "    preds = net1(inputs)\r\n",
        "    loss = F.cross_entropy(preds,labels)\r\n",
        "\r\n",
        "    tot_loss += loss \r\n",
        "    tot_correct += torch.sum(torch.argmax(preds,dim=1)==labels)\r\n",
        "print(f'By using SGDR Test Loss: {tot_loss/(_+1):.6f} Test Accuracy: {tot_correct/len(test_set)}')"
      ],
      "execution_count": 97,
      "outputs": [
        {
          "output_type": "stream",
          "text": [
            "By using SGDR Test Loss: 1.474167 Test Accuracy: 0.986299991607666\n"
          ],
          "name": "stdout"
        }
      ]
    },
    {
      "cell_type": "code",
      "metadata": {
        "colab": {
          "base_uri": "https://localhost:8080/",
          "height": 370
        },
        "id": "iqFjXLCDiRaC",
        "outputId": "d80edda3-95c5-43ab-8221-38822b7c654b"
      },
      "source": [
        "fig = plt.figure(figsize=[15,5])\r\n",
        "fig.suptitle(f'Learning curves by using SGDR with batch_size: 256', fontsize=10)\r\n",
        "plt.subplot(121)\r\n",
        "plt.plot(range(n),train_loss_val,'r-',label='Loss/error') \r\n",
        "plt.legend(loc='upper right')\r\n",
        "plt.xlabel('Epochs')\r\n",
        "plt.ylabel('Training Loss')\r\n",
        "plt.grid(1)\r\n",
        "plt.subplot(122)\r\n",
        "plt.plot(range(n),train_acc_val,'g-',label='Accuracy') \r\n",
        "plt.legend(loc='upper right')\r\n",
        "plt.xlabel('Epochs')\r\n",
        "plt.ylabel('Training Accuracy')\r\n",
        "plt.grid(1)"
      ],
      "execution_count": 99,
      "outputs": [
        {
          "output_type": "display_data",
          "data": {
            "image/png": "[encoded data removed]",
            "text/plain": [
              "<Figure size 1080x360 with 2 Axes>"
            ]
          },
          "metadata": {
            "tags": [],
            "needs_background": "light"
          }
        }
      ]
    },
    {
      "cell_type": "markdown",
      "metadata": {
        "id": "OTPIHPF7ppwU"
      },
      "source": [
        "**I considered the initial learning rate as 0.2 and reduced by factor 0.6 for every 4 epochs. I observed that the rate of convergence of loss function is much higher than normal training with fixed learning rate. We can also see the plots from solutions of 5 and 6.c which shows a decent picture of rate of convergence of loss functions.**"
      ]
    },
    {
      "cell_type": "markdown",
      "metadata": {
        "id": "seBm4IRLq39k"
      },
      "source": [
        "# END"
      ]
    }
  ]
}
